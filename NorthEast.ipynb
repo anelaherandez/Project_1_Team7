{
 "cells": [
  {
   "cell_type": "code",
   "execution_count": 42,
   "id": "6f717eda",
   "metadata": {},
   "outputs": [],
   "source": [
    "import pandas as pd\n",
    "import plotly as px\n",
    "from pathlib import Path\n",
    "import matplotlib.pyplot as plt\n",
    "import numpy as np\n",
    "from matplotlib import pyplot as plt\n",
    "\n"
   ]
  },
  {
   "cell_type": "code",
   "execution_count": 43,
   "id": "8d9a3e4c",
   "metadata": {},
   "outputs": [],
   "source": [
    "#save path to data set \n",
    "NEregion_path=\"Northeast_data.csv\""
   ]
  },
  {
   "cell_type": "code",
   "execution_count": 44,
   "id": "4a5ebae1",
   "metadata": {
    "scrolled": true
   },
   "outputs": [
    {
     "data": {
      "text/html": [
       "<div>\n",
       "<style scoped>\n",
       "    .dataframe tbody tr th:only-of-type {\n",
       "        vertical-align: middle;\n",
       "    }\n",
       "\n",
       "    .dataframe tbody tr th {\n",
       "        vertical-align: top;\n",
       "    }\n",
       "\n",
       "    .dataframe thead th {\n",
       "        text-align: right;\n",
       "    }\n",
       "</style>\n",
       "<table border=\"1\" class=\"dataframe\">\n",
       "  <thead>\n",
       "    <tr style=\"text-align: right;\">\n",
       "      <th></th>\n",
       "      <th>State</th>\n",
       "      <th>Region</th>\n",
       "      <th>Sex</th>\n",
       "      <th>GeneralHealth</th>\n",
       "      <th>PhysicalHealthDays</th>\n",
       "      <th>MentalHealthDays</th>\n",
       "      <th>LastCheckupTime</th>\n",
       "      <th>PhysicalActivities</th>\n",
       "      <th>SleepHours</th>\n",
       "      <th>RemovedTeeth</th>\n",
       "      <th>...</th>\n",
       "      <th>HeightInMeters</th>\n",
       "      <th>WeightInKilograms</th>\n",
       "      <th>BMI</th>\n",
       "      <th>AlcoholDrinkers</th>\n",
       "      <th>HIVTesting</th>\n",
       "      <th>FluVaxLast12</th>\n",
       "      <th>PneumoVaxEver</th>\n",
       "      <th>TetanusLast10Tdap</th>\n",
       "      <th>HighRiskLastYear</th>\n",
       "      <th>CovidPos</th>\n",
       "    </tr>\n",
       "  </thead>\n",
       "  <tbody>\n",
       "    <tr>\n",
       "      <th>0</th>\n",
       "      <td>Connecticut</td>\n",
       "      <td>Northeast</td>\n",
       "      <td>Male</td>\n",
       "      <td>Excellent</td>\n",
       "      <td>0</td>\n",
       "      <td>0</td>\n",
       "      <td>Within past 2 years (1 year but less than 2 ye...</td>\n",
       "      <td>Yes</td>\n",
       "      <td>6</td>\n",
       "      <td>1 to 5</td>\n",
       "      <td>...</td>\n",
       "      <td>1.68</td>\n",
       "      <td>68.04</td>\n",
       "      <td>24.21</td>\n",
       "      <td>No</td>\n",
       "      <td>Yes</td>\n",
       "      <td>Yes</td>\n",
       "      <td>No</td>\n",
       "      <td>No, did not receive any tetanus shot in the pa...</td>\n",
       "      <td>No</td>\n",
       "      <td>No</td>\n",
       "    </tr>\n",
       "    <tr>\n",
       "      <th>1</th>\n",
       "      <td>Connecticut</td>\n",
       "      <td>Northeast</td>\n",
       "      <td>Female</td>\n",
       "      <td>Fair</td>\n",
       "      <td>10</td>\n",
       "      <td>0</td>\n",
       "      <td>Within past year (anytime less than 12 months ...</td>\n",
       "      <td>No</td>\n",
       "      <td>7</td>\n",
       "      <td>None of them</td>\n",
       "      <td>...</td>\n",
       "      <td>1.57</td>\n",
       "      <td>70.76</td>\n",
       "      <td>28.53</td>\n",
       "      <td>Yes</td>\n",
       "      <td>No</td>\n",
       "      <td>Yes</td>\n",
       "      <td>Yes</td>\n",
       "      <td>No, did not receive any tetanus shot in the pa...</td>\n",
       "      <td>No</td>\n",
       "      <td>Yes</td>\n",
       "    </tr>\n",
       "    <tr>\n",
       "      <th>2</th>\n",
       "      <td>Connecticut</td>\n",
       "      <td>Northeast</td>\n",
       "      <td>Female</td>\n",
       "      <td>Excellent</td>\n",
       "      <td>0</td>\n",
       "      <td>0</td>\n",
       "      <td>Within past year (anytime less than 12 months ...</td>\n",
       "      <td>No</td>\n",
       "      <td>7</td>\n",
       "      <td>None of them</td>\n",
       "      <td>...</td>\n",
       "      <td>1.63</td>\n",
       "      <td>61.23</td>\n",
       "      <td>23.17</td>\n",
       "      <td>No</td>\n",
       "      <td>No</td>\n",
       "      <td>No</td>\n",
       "      <td>No</td>\n",
       "      <td>No, did not receive any tetanus shot in the pa...</td>\n",
       "      <td>No</td>\n",
       "      <td>No</td>\n",
       "    </tr>\n",
       "    <tr>\n",
       "      <th>3</th>\n",
       "      <td>Connecticut</td>\n",
       "      <td>Northeast</td>\n",
       "      <td>Female</td>\n",
       "      <td>Good</td>\n",
       "      <td>0</td>\n",
       "      <td>0</td>\n",
       "      <td>Within past year (anytime less than 12 months ...</td>\n",
       "      <td>Yes</td>\n",
       "      <td>7</td>\n",
       "      <td>1 to 5</td>\n",
       "      <td>...</td>\n",
       "      <td>1.55</td>\n",
       "      <td>70.31</td>\n",
       "      <td>29.29</td>\n",
       "      <td>No</td>\n",
       "      <td>Yes</td>\n",
       "      <td>Yes</td>\n",
       "      <td>No</td>\n",
       "      <td>Yes, received tetanus shot but not sure what type</td>\n",
       "      <td>No</td>\n",
       "      <td>No</td>\n",
       "    </tr>\n",
       "    <tr>\n",
       "      <th>4</th>\n",
       "      <td>Connecticut</td>\n",
       "      <td>Northeast</td>\n",
       "      <td>Female</td>\n",
       "      <td>Very good</td>\n",
       "      <td>2</td>\n",
       "      <td>4</td>\n",
       "      <td>Within past 5 years (2 years but less than 5 y...</td>\n",
       "      <td>Yes</td>\n",
       "      <td>8</td>\n",
       "      <td>1 to 5</td>\n",
       "      <td>...</td>\n",
       "      <td>1.57</td>\n",
       "      <td>77.11</td>\n",
       "      <td>31.09</td>\n",
       "      <td>No</td>\n",
       "      <td>Yes</td>\n",
       "      <td>No</td>\n",
       "      <td>No</td>\n",
       "      <td>No, did not receive any tetanus shot in the pa...</td>\n",
       "      <td>No</td>\n",
       "      <td>No</td>\n",
       "    </tr>\n",
       "    <tr>\n",
       "      <th>...</th>\n",
       "      <td>...</td>\n",
       "      <td>...</td>\n",
       "      <td>...</td>\n",
       "      <td>...</td>\n",
       "      <td>...</td>\n",
       "      <td>...</td>\n",
       "      <td>...</td>\n",
       "      <td>...</td>\n",
       "      <td>...</td>\n",
       "      <td>...</td>\n",
       "      <td>...</td>\n",
       "      <td>...</td>\n",
       "      <td>...</td>\n",
       "      <td>...</td>\n",
       "      <td>...</td>\n",
       "      <td>...</td>\n",
       "      <td>...</td>\n",
       "      <td>...</td>\n",
       "      <td>...</td>\n",
       "      <td>...</td>\n",
       "      <td>...</td>\n",
       "    </tr>\n",
       "    <tr>\n",
       "      <th>56903</th>\n",
       "      <td>Vermont</td>\n",
       "      <td>Northeast</td>\n",
       "      <td>Female</td>\n",
       "      <td>Good</td>\n",
       "      <td>0</td>\n",
       "      <td>0</td>\n",
       "      <td>Within past year (anytime less than 12 months ...</td>\n",
       "      <td>No</td>\n",
       "      <td>7</td>\n",
       "      <td>1 to 5</td>\n",
       "      <td>...</td>\n",
       "      <td>1.57</td>\n",
       "      <td>56.70</td>\n",
       "      <td>22.86</td>\n",
       "      <td>No</td>\n",
       "      <td>No</td>\n",
       "      <td>No</td>\n",
       "      <td>No</td>\n",
       "      <td>Yes, received tetanus shot but not sure what type</td>\n",
       "      <td>No</td>\n",
       "      <td>No</td>\n",
       "    </tr>\n",
       "    <tr>\n",
       "      <th>56904</th>\n",
       "      <td>Vermont</td>\n",
       "      <td>Northeast</td>\n",
       "      <td>Female</td>\n",
       "      <td>Excellent</td>\n",
       "      <td>0</td>\n",
       "      <td>5</td>\n",
       "      <td>Within past year (anytime less than 12 months ...</td>\n",
       "      <td>Yes</td>\n",
       "      <td>8</td>\n",
       "      <td>None of them</td>\n",
       "      <td>...</td>\n",
       "      <td>1.73</td>\n",
       "      <td>70.31</td>\n",
       "      <td>23.57</td>\n",
       "      <td>Yes</td>\n",
       "      <td>No</td>\n",
       "      <td>Yes</td>\n",
       "      <td>No</td>\n",
       "      <td>Yes, received tetanus shot but not sure what type</td>\n",
       "      <td>No</td>\n",
       "      <td>No</td>\n",
       "    </tr>\n",
       "    <tr>\n",
       "      <th>56905</th>\n",
       "      <td>Vermont</td>\n",
       "      <td>Northeast</td>\n",
       "      <td>Male</td>\n",
       "      <td>Very good</td>\n",
       "      <td>1</td>\n",
       "      <td>1</td>\n",
       "      <td>Within past year (anytime less than 12 months ...</td>\n",
       "      <td>No</td>\n",
       "      <td>6</td>\n",
       "      <td>None of them</td>\n",
       "      <td>...</td>\n",
       "      <td>1.78</td>\n",
       "      <td>61.23</td>\n",
       "      <td>19.37</td>\n",
       "      <td>Yes</td>\n",
       "      <td>No</td>\n",
       "      <td>No</td>\n",
       "      <td>No</td>\n",
       "      <td>No, did not receive any tetanus shot in the pa...</td>\n",
       "      <td>No</td>\n",
       "      <td>Tested positive using home test without a heal...</td>\n",
       "    </tr>\n",
       "    <tr>\n",
       "      <th>56906</th>\n",
       "      <td>Vermont</td>\n",
       "      <td>Northeast</td>\n",
       "      <td>Male</td>\n",
       "      <td>Very good</td>\n",
       "      <td>0</td>\n",
       "      <td>10</td>\n",
       "      <td>5 or more years ago</td>\n",
       "      <td>Yes</td>\n",
       "      <td>4</td>\n",
       "      <td>None of them</td>\n",
       "      <td>...</td>\n",
       "      <td>1.93</td>\n",
       "      <td>92.99</td>\n",
       "      <td>24.95</td>\n",
       "      <td>Yes</td>\n",
       "      <td>No</td>\n",
       "      <td>No</td>\n",
       "      <td>No</td>\n",
       "      <td>Yes, received tetanus shot but not sure what type</td>\n",
       "      <td>No</td>\n",
       "      <td>No</td>\n",
       "    </tr>\n",
       "    <tr>\n",
       "      <th>56907</th>\n",
       "      <td>Vermont</td>\n",
       "      <td>Northeast</td>\n",
       "      <td>Female</td>\n",
       "      <td>Very good</td>\n",
       "      <td>0</td>\n",
       "      <td>0</td>\n",
       "      <td>Within past year (anytime less than 12 months ...</td>\n",
       "      <td>Yes</td>\n",
       "      <td>8</td>\n",
       "      <td>1 to 5</td>\n",
       "      <td>...</td>\n",
       "      <td>1.75</td>\n",
       "      <td>81.65</td>\n",
       "      <td>26.58</td>\n",
       "      <td>Yes</td>\n",
       "      <td>No</td>\n",
       "      <td>Yes</td>\n",
       "      <td>No</td>\n",
       "      <td>Yes, received Tdap</td>\n",
       "      <td>No</td>\n",
       "      <td>No</td>\n",
       "    </tr>\n",
       "  </tbody>\n",
       "</table>\n",
       "<p>56908 rows × 41 columns</p>\n",
       "</div>"
      ],
      "text/plain": [
       "             State    Region      Sex GeneralHealth  PhysicalHealthDays  \\\n",
       "0      Connecticut  Northeast    Male     Excellent                   0   \n",
       "1      Connecticut  Northeast  Female          Fair                  10   \n",
       "2      Connecticut  Northeast  Female     Excellent                   0   \n",
       "3      Connecticut  Northeast  Female          Good                   0   \n",
       "4      Connecticut  Northeast  Female     Very good                   2   \n",
       "...            ...        ...     ...           ...                 ...   \n",
       "56903      Vermont  Northeast  Female          Good                   0   \n",
       "56904      Vermont  Northeast  Female     Excellent                   0   \n",
       "56905      Vermont  Northeast    Male     Very good                   1   \n",
       "56906      Vermont  Northeast    Male     Very good                   0   \n",
       "56907      Vermont  Northeast  Female     Very good                   0   \n",
       "\n",
       "       MentalHealthDays                                    LastCheckupTime  \\\n",
       "0                     0  Within past 2 years (1 year but less than 2 ye...   \n",
       "1                     0  Within past year (anytime less than 12 months ...   \n",
       "2                     0  Within past year (anytime less than 12 months ...   \n",
       "3                     0  Within past year (anytime less than 12 months ...   \n",
       "4                     4  Within past 5 years (2 years but less than 5 y...   \n",
       "...                 ...                                                ...   \n",
       "56903                 0  Within past year (anytime less than 12 months ...   \n",
       "56904                 5  Within past year (anytime less than 12 months ...   \n",
       "56905                 1  Within past year (anytime less than 12 months ...   \n",
       "56906                10                                5 or more years ago   \n",
       "56907                 0  Within past year (anytime less than 12 months ...   \n",
       "\n",
       "      PhysicalActivities  SleepHours  RemovedTeeth  ... HeightInMeters  \\\n",
       "0                    Yes           6        1 to 5  ...           1.68   \n",
       "1                     No           7  None of them  ...           1.57   \n",
       "2                     No           7  None of them  ...           1.63   \n",
       "3                    Yes           7        1 to 5  ...           1.55   \n",
       "4                    Yes           8        1 to 5  ...           1.57   \n",
       "...                  ...         ...           ...  ...            ...   \n",
       "56903                 No           7        1 to 5  ...           1.57   \n",
       "56904                Yes           8  None of them  ...           1.73   \n",
       "56905                 No           6  None of them  ...           1.78   \n",
       "56906                Yes           4  None of them  ...           1.93   \n",
       "56907                Yes           8        1 to 5  ...           1.75   \n",
       "\n",
       "      WeightInKilograms    BMI AlcoholDrinkers HIVTesting FluVaxLast12  \\\n",
       "0                 68.04  24.21              No        Yes          Yes   \n",
       "1                 70.76  28.53             Yes         No          Yes   \n",
       "2                 61.23  23.17              No         No           No   \n",
       "3                 70.31  29.29              No        Yes          Yes   \n",
       "4                 77.11  31.09              No        Yes           No   \n",
       "...                 ...    ...             ...        ...          ...   \n",
       "56903             56.70  22.86              No         No           No   \n",
       "56904             70.31  23.57             Yes         No          Yes   \n",
       "56905             61.23  19.37             Yes         No           No   \n",
       "56906             92.99  24.95             Yes         No           No   \n",
       "56907             81.65  26.58             Yes         No          Yes   \n",
       "\n",
       "      PneumoVaxEver                                  TetanusLast10Tdap  \\\n",
       "0                No  No, did not receive any tetanus shot in the pa...   \n",
       "1               Yes  No, did not receive any tetanus shot in the pa...   \n",
       "2                No  No, did not receive any tetanus shot in the pa...   \n",
       "3                No  Yes, received tetanus shot but not sure what type   \n",
       "4                No  No, did not receive any tetanus shot in the pa...   \n",
       "...             ...                                                ...   \n",
       "56903            No  Yes, received tetanus shot but not sure what type   \n",
       "56904            No  Yes, received tetanus shot but not sure what type   \n",
       "56905            No  No, did not receive any tetanus shot in the pa...   \n",
       "56906            No  Yes, received tetanus shot but not sure what type   \n",
       "56907            No                                 Yes, received Tdap   \n",
       "\n",
       "      HighRiskLastYear                                           CovidPos  \n",
       "0                   No                                                 No  \n",
       "1                   No                                                Yes  \n",
       "2                   No                                                 No  \n",
       "3                   No                                                 No  \n",
       "4                   No                                                 No  \n",
       "...                ...                                                ...  \n",
       "56903               No                                                 No  \n",
       "56904               No                                                 No  \n",
       "56905               No  Tested positive using home test without a heal...  \n",
       "56906               No                                                 No  \n",
       "56907               No                                                 No  \n",
       "\n",
       "[56908 rows x 41 columns]"
      ]
     },
     "execution_count": 44,
     "metadata": {},
     "output_type": "execute_result"
    }
   ],
   "source": [
    "# Use Pandas to read data\n",
    "NEregion= pd.read_csv('Northeast_data.csv')\n",
    "NEregion"
   ]
  },
  {
   "cell_type": "code",
   "execution_count": 45,
   "id": "3c050cdc",
   "metadata": {},
   "outputs": [],
   "source": [
    "# Heart Attack section"
   ]
  },
  {
   "cell_type": "code",
   "execution_count": 46,
   "id": "07f401f6",
   "metadata": {},
   "outputs": [
    {
     "data": {
      "text/plain": [
       "No     53963\n",
       "Yes     2945\n",
       "Name: HadHeartAttack, dtype: int64"
      ]
     },
     "execution_count": 46,
     "metadata": {},
     "output_type": "execute_result"
    }
   ],
   "source": [
    "\n",
    "Heart_Attack_status = NEregion[\"HadHeartAttack\"].value_counts()\n",
    "Heart_Attack_status"
   ]
  },
  {
   "cell_type": "code",
   "execution_count": 54,
   "id": "3bf9bc48",
   "metadata": {},
   "outputs": [
    {
     "data": {
      "text/html": [
       "<div>\n",
       "<style scoped>\n",
       "    .dataframe tbody tr th:only-of-type {\n",
       "        vertical-align: middle;\n",
       "    }\n",
       "\n",
       "    .dataframe tbody tr th {\n",
       "        vertical-align: top;\n",
       "    }\n",
       "\n",
       "    .dataframe thead th {\n",
       "        text-align: right;\n",
       "    }\n",
       "</style>\n",
       "<table border=\"1\" class=\"dataframe\">\n",
       "  <thead>\n",
       "    <tr style=\"text-align: right;\">\n",
       "      <th></th>\n",
       "      <th>HadHeartAttack</th>\n",
       "      <th>Total</th>\n",
       "    </tr>\n",
       "  </thead>\n",
       "  <tbody>\n",
       "    <tr>\n",
       "      <th>0</th>\n",
       "      <td>Yes</td>\n",
       "      <td>53963</td>\n",
       "    </tr>\n",
       "    <tr>\n",
       "      <th>1</th>\n",
       "      <td>No</td>\n",
       "      <td>2945</td>\n",
       "    </tr>\n",
       "  </tbody>\n",
       "</table>\n",
       "</div>"
      ],
      "text/plain": [
       "  HadHeartAttack  Total\n",
       "0            Yes  53963\n",
       "1             No   2945"
      ]
     },
     "execution_count": 54,
     "metadata": {},
     "output_type": "execute_result"
    }
   ],
   "source": [
    "Heart_Attack_status_df= pd.DataFrame({\"HadHeartAttack\":[\"Yes\",\"No\"],\n",
    "                               \"Total\":[\"53963\",\"2945\"] })\n",
    "Heart_Attack_status_df.head()"
   ]
  },
  {
   "cell_type": "code",
   "execution_count": 58,
   "id": "b5a1449b",
   "metadata": {},
   "outputs": [
    {
     "data": {
      "image/png": "[encoded data removed]",
      "text/plain": [
       "<Figure size 640x480 with 1 Axes>"
      ]
     },
     "metadata": {},
     "output_type": "display_data"
    }
   ],
   "source": [
    "Heart_Attack_status = NEregion[\"HadHeartAttack\"].value_counts()\n",
    "colors=['pink', 'red']\n",
    "Heart_Attack_status.plot.pie(autopct = \"%1.1f%%\", colors=colors, shadow=True )\n",
    "\n",
    "\n",
    "plt.show()"
   ]
  },
  {
   "cell_type": "code",
   "execution_count": 52,
   "id": "ec02090d",
   "metadata": {},
   "outputs": [
    {
     "data": {
      "text/plain": [
       "State\n",
       "Connecticut             5053\n",
       "Delaware                2155\n",
       "District of Columbia    1725\n",
       "Maine                   6013\n",
       "Maryland                9165\n",
       "Massachusetts           5465\n",
       "New Hampshire           3756\n",
       "New Jersey              3967\n",
       "New York                8923\n",
       "Pennsylvania            2729\n",
       "Rhode Island            3112\n",
       "Vermont                 4845\n",
       "Name: HadHeartAttack, dtype: int64"
      ]
     },
     "execution_count": 52,
     "metadata": {},
     "output_type": "execute_result"
    }
   ],
   "source": [
    "states_NorthEast= NEregion.groupby([\"State\"])[\"HadHeartAttack\"].count()\n",
    "states_NorthEast"
   ]
  },
  {
   "cell_type": "code",
   "execution_count": 36,
   "id": "eccf74c5",
   "metadata": {
    "scrolled": true
   },
   "outputs": [
    {
     "ename": "ValueError",
     "evalue": "The number of FixedLocator locations (12), usually from a call to set_ticks, does not match the number of labels (14).",
     "output_type": "error",
     "traceback": [
      "\u001b[1;31m---------------------------------------------------------------------------\u001b[0m",
      "\u001b[1;31mValueError\u001b[0m                                Traceback (most recent call last)",
      "Cell \u001b[1;32mIn[36], line 6\u001b[0m\n\u001b[0;32m      4\u001b[0m plt\u001b[38;5;241m.\u001b[39mbar(xvalue,yvalue, color\u001b[38;5;241m=\u001b[39m\u001b[38;5;124m'\u001b[39m\u001b[38;5;124mRed\u001b[39m\u001b[38;5;124m'\u001b[39m, width\u001b[38;5;241m=\u001b[39m\u001b[38;5;241m0.5\u001b[39m)\n\u001b[0;32m      5\u001b[0m tick_locations \u001b[38;5;241m=\u001b[39m [value \u001b[38;5;28;01mfor\u001b[39;00m value \u001b[38;5;129;01min\u001b[39;00m xvalue]\n\u001b[1;32m----> 6\u001b[0m plt\u001b[38;5;241m.\u001b[39mxticks(tick_locations, [\u001b[38;5;124m\"\u001b[39m\u001b[38;5;124mConnecticut\u001b[39m\u001b[38;5;124m\"\u001b[39m, \u001b[38;5;124m\"\u001b[39m\u001b[38;5;124mDelaware\u001b[39m\u001b[38;5;124m\"\u001b[39m, \u001b[38;5;124m\"\u001b[39m\u001b[38;5;124mDistrict of Columbia\u001b[39m\u001b[38;5;124m\"\u001b[39m, \u001b[38;5;124m\"\u001b[39m\u001b[38;5;124mMaine\u001b[39m\u001b[38;5;124m\"\u001b[39m, \u001b[38;5;124m\"\u001b[39m\u001b[38;5;124mMaryland \u001b[39m\u001b[38;5;124m\"\u001b[39m, \u001b[38;5;124m\"\u001b[39m\u001b[38;5;124mMassachusetts\u001b[39m\u001b[38;5;124m\"\u001b[39m, \u001b[38;5;124m\"\u001b[39m\u001b[38;5;124mNew Hampshire\u001b[39m\u001b[38;5;124m\"\u001b[39m,\n\u001b[0;32m      7\u001b[0m                             \u001b[38;5;124m\"\u001b[39m\u001b[38;5;124mNew Jersey\u001b[39m\u001b[38;5;124m\"\u001b[39m, \u001b[38;5;124m\"\u001b[39m\u001b[38;5;124mNew York\u001b[39m\u001b[38;5;124m\"\u001b[39m, \u001b[38;5;124m\"\u001b[39m\u001b[38;5;124mPennsylvania\u001b[39m\u001b[38;5;124m\"\u001b[39m, \u001b[38;5;124m\"\u001b[39m\u001b[38;5;124mRhode Island\u001b[39m\u001b[38;5;124m\"\u001b[39m, \u001b[38;5;124m\"\u001b[39m\u001b[38;5;124mVermont\u001b[39m\u001b[38;5;124m\"\u001b[39m,\n\u001b[0;32m      8\u001b[0m                            \u001b[38;5;124m\"\u001b[39m\u001b[38;5;124mVirginia\u001b[39m\u001b[38;5;124m\"\u001b[39m, \u001b[38;5;124m\"\u001b[39m\u001b[38;5;124mWest Virginia\u001b[39m\u001b[38;5;124m\"\u001b[39m], \n\u001b[0;32m      9\u001b[0m            rotation\u001b[38;5;241m=\u001b[39m\u001b[38;5;124m\"\u001b[39m\u001b[38;5;124mvertical\u001b[39m\u001b[38;5;124m\"\u001b[39m)\n\u001b[0;32m     10\u001b[0m plt\u001b[38;5;241m.\u001b[39mshow()\n",
      "File \u001b[1;32m~\\anaconda3\\Lib\\site-packages\\matplotlib\\pyplot.py:1893\u001b[0m, in \u001b[0;36mxticks\u001b[1;34m(ticks, labels, minor, **kwargs)\u001b[0m\n\u001b[0;32m   1891\u001b[0m         l\u001b[38;5;241m.\u001b[39m_internal_update(kwargs)\n\u001b[0;32m   1892\u001b[0m \u001b[38;5;28;01melse\u001b[39;00m:\n\u001b[1;32m-> 1893\u001b[0m     labels \u001b[38;5;241m=\u001b[39m ax\u001b[38;5;241m.\u001b[39mset_xticklabels(labels, minor\u001b[38;5;241m=\u001b[39mminor, \u001b[38;5;241m*\u001b[39m\u001b[38;5;241m*\u001b[39mkwargs)\n\u001b[0;32m   1895\u001b[0m \u001b[38;5;28;01mreturn\u001b[39;00m locs, labels\n",
      "File \u001b[1;32m~\\anaconda3\\Lib\\site-packages\\matplotlib\\axes\\_base.py:74\u001b[0m, in \u001b[0;36m_axis_method_wrapper.__set_name__.<locals>.wrapper\u001b[1;34m(self, *args, **kwargs)\u001b[0m\n\u001b[0;32m     73\u001b[0m \u001b[38;5;28;01mdef\u001b[39;00m \u001b[38;5;21mwrapper\u001b[39m(\u001b[38;5;28mself\u001b[39m, \u001b[38;5;241m*\u001b[39margs, \u001b[38;5;241m*\u001b[39m\u001b[38;5;241m*\u001b[39mkwargs):\n\u001b[1;32m---> 74\u001b[0m     \u001b[38;5;28;01mreturn\u001b[39;00m get_method(\u001b[38;5;28mself\u001b[39m)(\u001b[38;5;241m*\u001b[39margs, \u001b[38;5;241m*\u001b[39m\u001b[38;5;241m*\u001b[39mkwargs)\n",
      "File \u001b[1;32m~\\anaconda3\\Lib\\site-packages\\matplotlib\\_api\\deprecation.py:297\u001b[0m, in \u001b[0;36mrename_parameter.<locals>.wrapper\u001b[1;34m(*args, **kwargs)\u001b[0m\n\u001b[0;32m    292\u001b[0m     warn_deprecated(\n\u001b[0;32m    293\u001b[0m         since, message\u001b[38;5;241m=\u001b[39m\u001b[38;5;124mf\u001b[39m\u001b[38;5;124m\"\u001b[39m\u001b[38;5;124mThe \u001b[39m\u001b[38;5;132;01m{\u001b[39;00mold\u001b[38;5;132;01m!r}\u001b[39;00m\u001b[38;5;124m parameter of \u001b[39m\u001b[38;5;132;01m{\u001b[39;00mfunc\u001b[38;5;241m.\u001b[39m\u001b[38;5;18m__name__\u001b[39m\u001b[38;5;132;01m}\u001b[39;00m\u001b[38;5;124m() \u001b[39m\u001b[38;5;124m\"\u001b[39m\n\u001b[0;32m    294\u001b[0m         \u001b[38;5;124mf\u001b[39m\u001b[38;5;124m\"\u001b[39m\u001b[38;5;124mhas been renamed \u001b[39m\u001b[38;5;132;01m{\u001b[39;00mnew\u001b[38;5;132;01m!r}\u001b[39;00m\u001b[38;5;124m since Matplotlib \u001b[39m\u001b[38;5;132;01m{\u001b[39;00msince\u001b[38;5;132;01m}\u001b[39;00m\u001b[38;5;124m; support \u001b[39m\u001b[38;5;124m\"\u001b[39m\n\u001b[0;32m    295\u001b[0m         \u001b[38;5;124mf\u001b[39m\u001b[38;5;124m\"\u001b[39m\u001b[38;5;124mfor the old name will be dropped %(removal)s.\u001b[39m\u001b[38;5;124m\"\u001b[39m)\n\u001b[0;32m    296\u001b[0m     kwargs[new] \u001b[38;5;241m=\u001b[39m kwargs\u001b[38;5;241m.\u001b[39mpop(old)\n\u001b[1;32m--> 297\u001b[0m \u001b[38;5;28;01mreturn\u001b[39;00m func(\u001b[38;5;241m*\u001b[39margs, \u001b[38;5;241m*\u001b[39m\u001b[38;5;241m*\u001b[39mkwargs)\n",
      "File \u001b[1;32m~\\anaconda3\\Lib\\site-packages\\matplotlib\\axis.py:1969\u001b[0m, in \u001b[0;36mAxis.set_ticklabels\u001b[1;34m(self, labels, minor, fontdict, **kwargs)\u001b[0m\n\u001b[0;32m   1965\u001b[0m \u001b[38;5;28;01mif\u001b[39;00m \u001b[38;5;28misinstance\u001b[39m(locator, mticker\u001b[38;5;241m.\u001b[39mFixedLocator):\n\u001b[0;32m   1966\u001b[0m     \u001b[38;5;66;03m# Passing [] as a list of labels is often used as a way to\u001b[39;00m\n\u001b[0;32m   1967\u001b[0m     \u001b[38;5;66;03m# remove all tick labels, so only error for > 0 labels\u001b[39;00m\n\u001b[0;32m   1968\u001b[0m     \u001b[38;5;28;01mif\u001b[39;00m \u001b[38;5;28mlen\u001b[39m(locator\u001b[38;5;241m.\u001b[39mlocs) \u001b[38;5;241m!=\u001b[39m \u001b[38;5;28mlen\u001b[39m(labels) \u001b[38;5;129;01mand\u001b[39;00m \u001b[38;5;28mlen\u001b[39m(labels) \u001b[38;5;241m!=\u001b[39m \u001b[38;5;241m0\u001b[39m:\n\u001b[1;32m-> 1969\u001b[0m         \u001b[38;5;28;01mraise\u001b[39;00m \u001b[38;5;167;01mValueError\u001b[39;00m(\n\u001b[0;32m   1970\u001b[0m             \u001b[38;5;124m\"\u001b[39m\u001b[38;5;124mThe number of FixedLocator locations\u001b[39m\u001b[38;5;124m\"\u001b[39m\n\u001b[0;32m   1971\u001b[0m             \u001b[38;5;124mf\u001b[39m\u001b[38;5;124m\"\u001b[39m\u001b[38;5;124m (\u001b[39m\u001b[38;5;132;01m{\u001b[39;00m\u001b[38;5;28mlen\u001b[39m(locator\u001b[38;5;241m.\u001b[39mlocs)\u001b[38;5;132;01m}\u001b[39;00m\u001b[38;5;124m), usually from a call to\u001b[39m\u001b[38;5;124m\"\u001b[39m\n\u001b[0;32m   1972\u001b[0m             \u001b[38;5;124m\"\u001b[39m\u001b[38;5;124m set_ticks, does not match\u001b[39m\u001b[38;5;124m\"\u001b[39m\n\u001b[0;32m   1973\u001b[0m             \u001b[38;5;124mf\u001b[39m\u001b[38;5;124m\"\u001b[39m\u001b[38;5;124m the number of labels (\u001b[39m\u001b[38;5;132;01m{\u001b[39;00m\u001b[38;5;28mlen\u001b[39m(labels)\u001b[38;5;132;01m}\u001b[39;00m\u001b[38;5;124m).\u001b[39m\u001b[38;5;124m\"\u001b[39m)\n\u001b[0;32m   1974\u001b[0m     tickd \u001b[38;5;241m=\u001b[39m {loc: lab \u001b[38;5;28;01mfor\u001b[39;00m loc, lab \u001b[38;5;129;01min\u001b[39;00m \u001b[38;5;28mzip\u001b[39m(locator\u001b[38;5;241m.\u001b[39mlocs, labels)}\n\u001b[0;32m   1975\u001b[0m     func \u001b[38;5;241m=\u001b[39m functools\u001b[38;5;241m.\u001b[39mpartial(\u001b[38;5;28mself\u001b[39m\u001b[38;5;241m.\u001b[39m_format_with_dict, tickd)\n",
      "\u001b[1;31mValueError\u001b[0m: The number of FixedLocator locations (12), usually from a call to set_ticks, does not match the number of labels (14)."
     ]
    },
    {
     "data": {
      "image/png": "[encoded data removed]",
      "text/plain": [
       "<Figure size 640x480 with 1 Axes>"
      ]
     },
     "metadata": {},
     "output_type": "display_data"
    }
   ],
   "source": [
    "Heart_Attack_status = NEregion[NEregion['HadHeartAttack']==1].groupby('State').size()\n",
    "xvalue=np.arange(len(states_NorthEast))\n",
    "yvalue=states_NorthEast\n",
    "plt.bar(xvalue,yvalue, color='Red', width=0.5)\n",
    "tick_locations = [value for value in xvalue]\n",
    "plt.xticks(tick_locations, [\"Connecticut\", \"Delaware\", \"District of Columbia\", \"Maine\", \"Maryland \", \"Massachusetts\", \"New Hampshire\",\n",
    "                            \"New Jersey\", \"New York\", \"Pennsylvania\", \"Rhode Island\", \"Vermont\",\n",
    "                           \"Virginia\", \"West Virginia\"], \n",
    "           rotation=\"vertical\")\n",
    "plt.show()"
   ]
  },
  {
   "cell_type": "code",
   "execution_count": 80,
   "id": "98ae8da0",
   "metadata": {},
   "outputs": [
    {
     "data": {
      "text/plain": [
       "Sex\n",
       "Female    29669\n",
       "Male      27239\n",
       "Name: Sex, dtype: int64"
      ]
     },
     "execution_count": 80,
     "metadata": {},
     "output_type": "execute_result"
    }
   ],
   "source": [
    "No_Heart_attack_gender=NEregion.groupby('Sex')['Sex'].count()\n",
    "No_Heart_attack_gender"
   ]
  },
  {
   "cell_type": "code",
   "execution_count": 82,
   "id": "679280e8",
   "metadata": {
    "scrolled": true
   },
   "outputs": [
    {
     "data": {
      "text/plain": [
       "Index([], dtype='object', name='Sex')"
      ]
     },
     "execution_count": 82,
     "metadata": {},
     "output_type": "execute_result"
    }
   ],
   "source": [
    "No_Heart_attack_gender_NEregion= NEregion[NEregion['HadHeartAttack']==0].groupby('Sex').size()\n",
    "No_Heart_attack_gender_NEregion.index"
   ]
  },
  {
   "cell_type": "code",
   "execution_count": 79,
   "id": "5b1b2a0f",
   "metadata": {},
   "outputs": [
    {
     "data": {
      "image/png": "[encoded data removed]",
      "text/plain": [
       "<Figure size 640x480 with 1 Axes>"
      ]
     },
     "metadata": {},
     "output_type": "display_data"
    }
   ],
   "source": [
    "colors=['hotpink','lightskyblue']\n",
    "labels=No_Heart_attack_gender\n",
    "explode=(0, 0.1)\n",
    "plt.pie(Sex_id,  explode=explode, labels=labels, colors=colors, autopct=\"%1.1f%%\", shadow=True)\n",
    "plt.title(\"No History of Heart Attacks in Male vs Female \", fontweight='bold')\n",
    "plt.show()"
   ]
  },
  {
   "cell_type": "code",
   "execution_count": 73,
   "id": "43817031",
   "metadata": {},
   "outputs": [],
   "source": [
    "#Stroke Information section"
   ]
  },
  {
   "cell_type": "code",
   "execution_count": 39,
   "id": "39bd1698",
   "metadata": {},
   "outputs": [
    {
     "data": {
      "text/plain": [
       "No     54794\n",
       "Yes     2114\n",
       "Name: HadStroke, dtype: int64"
      ]
     },
     "execution_count": 39,
     "metadata": {},
     "output_type": "execute_result"
    }
   ],
   "source": [
    "\n",
    "Stroke_Status=NEregion[\"HadStroke\"].value_counts()\n",
    "Stroke_Status"
   ]
  },
  {
   "cell_type": "code",
   "execution_count": 11,
   "id": "f5bbc88f",
   "metadata": {},
   "outputs": [
    {
     "data": {
      "text/html": [
       "<div>\n",
       "<style scoped>\n",
       "    .dataframe tbody tr th:only-of-type {\n",
       "        vertical-align: middle;\n",
       "    }\n",
       "\n",
       "    .dataframe tbody tr th {\n",
       "        vertical-align: top;\n",
       "    }\n",
       "\n",
       "    .dataframe thead th {\n",
       "        text-align: right;\n",
       "    }\n",
       "</style>\n",
       "<table border=\"1\" class=\"dataframe\">\n",
       "  <thead>\n",
       "    <tr style=\"text-align: right;\">\n",
       "      <th></th>\n",
       "      <th>HadStroke</th>\n",
       "      <th>Total</th>\n",
       "    </tr>\n",
       "  </thead>\n",
       "  <tbody>\n",
       "    <tr>\n",
       "      <th>0</th>\n",
       "      <td>Yes</td>\n",
       "      <td>54794</td>\n",
       "    </tr>\n",
       "    <tr>\n",
       "      <th>1</th>\n",
       "      <td>No</td>\n",
       "      <td>2114</td>\n",
       "    </tr>\n",
       "  </tbody>\n",
       "</table>\n",
       "</div>"
      ],
      "text/plain": [
       "  HadStroke  Total\n",
       "0       Yes  54794\n",
       "1        No   2114"
      ]
     },
     "execution_count": 11,
     "metadata": {},
     "output_type": "execute_result"
    }
   ],
   "source": [
    "Stroke_Status_df=pd.DataFrame({\"HadStroke\":[\"Yes\",\"No\"],\n",
    "                               \"Total\":[\"54794\",\"2114\"] })\n",
    "Stroke_Status_df"
   ]
  },
  {
   "cell_type": "code",
   "execution_count": 59,
   "id": "7b92f55f",
   "metadata": {},
   "outputs": [
    {
     "data": {
      "image/png": "[encoded data removed]",
      "text/plain": [
       "<Figure size 640x480 with 1 Axes>"
      ]
     },
     "metadata": {},
     "output_type": "display_data"
    }
   ],
   "source": [
    "Stroke_Status = NEregion[\"HadHeartAttack\"].value_counts()\n",
    "colors=['pink', 'yellow']\n",
    "Heart_Attack_status.plot.pie(autopct = \"%1.1f%%\", colors=colors, shadow=True )\n",
    "\n",
    "\n",
    "plt.show()"
   ]
  },
  {
   "cell_type": "code",
   "execution_count": 60,
   "id": "752b0fe6",
   "metadata": {},
   "outputs": [],
   "source": [
    "#Smoker section"
   ]
  },
  {
   "cell_type": "code",
   "execution_count": 61,
   "id": "5a9a5f37",
   "metadata": {},
   "outputs": [
    {
     "data": {
      "text/plain": [
       "Never smoked                             34252\n",
       "Former smoker                            16616\n",
       "Current smoker - now smokes every day     4329\n",
       "Current smoker - now smokes some days     1711\n",
       "Name: SmokerStatus, dtype: int64"
      ]
     },
     "execution_count": 61,
     "metadata": {},
     "output_type": "execute_result"
    }
   ],
   "source": [
    "\n",
    "smoker_status = NEregion[\"SmokerStatus\"].value_counts()\n",
    "smoker_status"
   ]
  },
  {
   "cell_type": "code",
   "execution_count": 62,
   "id": "c5760d8f",
   "metadata": {},
   "outputs": [
    {
     "data": {
      "text/html": [
       "<div>\n",
       "<style scoped>\n",
       "    .dataframe tbody tr th:only-of-type {\n",
       "        vertical-align: middle;\n",
       "    }\n",
       "\n",
       "    .dataframe tbody tr th {\n",
       "        vertical-align: top;\n",
       "    }\n",
       "\n",
       "    .dataframe thead th {\n",
       "        text-align: right;\n",
       "    }\n",
       "</style>\n",
       "<table border=\"1\" class=\"dataframe\">\n",
       "  <thead>\n",
       "    <tr style=\"text-align: right;\">\n",
       "      <th></th>\n",
       "      <th>Smoker Status</th>\n",
       "      <th>Total</th>\n",
       "    </tr>\n",
       "  </thead>\n",
       "  <tbody>\n",
       "    <tr>\n",
       "      <th>0</th>\n",
       "      <td>Never smoked</td>\n",
       "      <td>34252</td>\n",
       "    </tr>\n",
       "    <tr>\n",
       "      <th>1</th>\n",
       "      <td>Former smoker</td>\n",
       "      <td>16616</td>\n",
       "    </tr>\n",
       "    <tr>\n",
       "      <th>2</th>\n",
       "      <td>Current smoker-now smokes every day</td>\n",
       "      <td>4329</td>\n",
       "    </tr>\n",
       "    <tr>\n",
       "      <th>3</th>\n",
       "      <td>Current smoker-now smokes some days</td>\n",
       "      <td>1711</td>\n",
       "    </tr>\n",
       "  </tbody>\n",
       "</table>\n",
       "</div>"
      ],
      "text/plain": [
       "                         Smoker Status  Total\n",
       "0                         Never smoked  34252\n",
       "1                        Former smoker  16616\n",
       "2  Current smoker-now smokes every day   4329\n",
       "3  Current smoker-now smokes some days   1711"
      ]
     },
     "execution_count": 62,
     "metadata": {},
     "output_type": "execute_result"
    }
   ],
   "source": [
    "smoker_status_df= pd.DataFrame({\"Smoker Status\": [\"Never smoked\", \"Former smoker\", \"Current smoker-now smokes every day\",\"Current smoker-now smokes some days\"],\n",
    "                               \"Total\": [\"34252\",\"16616\",\"4329\",\"1711\"]})\n",
    "smoker_status_df.head()"
   ]
  },
  {
   "cell_type": "code",
   "execution_count": 63,
   "id": "dd9ba61b",
   "metadata": {},
   "outputs": [
    {
     "data": {
      "image/png": "[encoded data removed]",
      "text/plain": [
       "<Figure size 640x480 with 1 Axes>"
      ]
     },
     "metadata": {},
     "output_type": "display_data"
    }
   ],
   "source": [
    "smoker_status = NEregion[\"SmokerStatus\"].value_counts()\n",
    "smoker_status.plot.pie(autopct = \"%1.1f%%\")\n",
    "plt.show()"
   ]
  },
  {
   "cell_type": "code",
   "execution_count": 64,
   "id": "9787bcf5",
   "metadata": {},
   "outputs": [],
   "source": [
    "#E cigarette Section"
   ]
  },
  {
   "cell_type": "code",
   "execution_count": 65,
   "id": "ce607098",
   "metadata": {},
   "outputs": [
    {
     "data": {
      "text/plain": [
       "Never used e-cigarettes in my entire life    44770\n",
       "Not at all (right now)                        9688\n",
       "Use them some days                            1367\n",
       "Use them every day                            1083\n",
       "Name: ECigaretteUsage, dtype: int64"
      ]
     },
     "execution_count": 65,
     "metadata": {},
     "output_type": "execute_result"
    }
   ],
   "source": [
    "\n",
    "Ecigarette_Status= NEregion[\"ECigaretteUsage\"].value_counts()\n",
    "Ecigarette_Status"
   ]
  },
  {
   "cell_type": "code",
   "execution_count": 66,
   "id": "5e740127",
   "metadata": {},
   "outputs": [
    {
     "data": {
      "text/html": [
       "<div>\n",
       "<style scoped>\n",
       "    .dataframe tbody tr th:only-of-type {\n",
       "        vertical-align: middle;\n",
       "    }\n",
       "\n",
       "    .dataframe tbody tr th {\n",
       "        vertical-align: top;\n",
       "    }\n",
       "\n",
       "    .dataframe thead th {\n",
       "        text-align: right;\n",
       "    }\n",
       "</style>\n",
       "<table border=\"1\" class=\"dataframe\">\n",
       "  <thead>\n",
       "    <tr style=\"text-align: right;\">\n",
       "      <th></th>\n",
       "      <th>ECigaretteUsage</th>\n",
       "      <th>Total</th>\n",
       "    </tr>\n",
       "  </thead>\n",
       "  <tbody>\n",
       "    <tr>\n",
       "      <th>0</th>\n",
       "      <td>Never used e-cigarettes in my entire life</td>\n",
       "      <td>44770</td>\n",
       "    </tr>\n",
       "    <tr>\n",
       "      <th>1</th>\n",
       "      <td>Not at all (right now)</td>\n",
       "      <td>9688</td>\n",
       "    </tr>\n",
       "    <tr>\n",
       "      <th>2</th>\n",
       "      <td>Use them every day</td>\n",
       "      <td>1367</td>\n",
       "    </tr>\n",
       "    <tr>\n",
       "      <th>3</th>\n",
       "      <td>Use them some days</td>\n",
       "      <td>1083</td>\n",
       "    </tr>\n",
       "  </tbody>\n",
       "</table>\n",
       "</div>"
      ],
      "text/plain": [
       "                             ECigaretteUsage  Total\n",
       "0  Never used e-cigarettes in my entire life  44770\n",
       "1                     Not at all (right now)   9688\n",
       "2                         Use them every day   1367\n",
       "3                         Use them some days   1083"
      ]
     },
     "execution_count": 66,
     "metadata": {},
     "output_type": "execute_result"
    }
   ],
   "source": [
    "Ecigarette_Status_df= pd.DataFrame ({\"ECigaretteUsage\": [\"Never used e-cigarettes in my entire life\", \"Not at all (right now)\", \"Use them every day\", \"Use them some days\"],\n",
    "                                     \"Total\":[\"44770\",\"9688\",\"1367\",\"1083\"]})\n",
    "Ecigarette_Status_df\n",
    "                                "
   ]
  },
  {
   "cell_type": "code",
   "execution_count": 67,
   "id": "fd29ba8a",
   "metadata": {},
   "outputs": [
    {
     "data": {
      "image/png": "[encoded data removed]",
      "text/plain": [
       "<Figure size 640x480 with 1 Axes>"
      ]
     },
     "metadata": {},
     "output_type": "display_data"
    }
   ],
   "source": [
    "Ecigarette_Status = NEregion[\"ECigaretteUsage\"].value_counts()\n",
    "Ecigarette_Status.plot.pie(autopct = \"%1.1f%%\")\n",
    "plt.show()"
   ]
  },
  {
   "cell_type": "code",
   "execution_count": 20,
   "id": "da8ce177",
   "metadata": {},
   "outputs": [],
   "source": [
    "#Gender section"
   ]
  },
  {
   "cell_type": "code",
   "execution_count": 21,
   "id": "c8920638",
   "metadata": {},
   "outputs": [
    {
     "data": {
      "text/plain": [
       "Female    29669\n",
       "Male      27239\n",
       "Name: Sex, dtype: int64"
      ]
     },
     "execution_count": 21,
     "metadata": {},
     "output_type": "execute_result"
    }
   ],
   "source": [
    "\n",
    "gender_count = NEregion[\"Sex\"].value_counts()\n",
    "gender_count"
   ]
  },
  {
   "cell_type": "code",
   "execution_count": 22,
   "id": "0cd58f77",
   "metadata": {},
   "outputs": [
    {
     "data": {
      "text/html": [
       "<div>\n",
       "<style scoped>\n",
       "    .dataframe tbody tr th:only-of-type {\n",
       "        vertical-align: middle;\n",
       "    }\n",
       "\n",
       "    .dataframe tbody tr th {\n",
       "        vertical-align: top;\n",
       "    }\n",
       "\n",
       "    .dataframe thead th {\n",
       "        text-align: right;\n",
       "    }\n",
       "</style>\n",
       "<table border=\"1\" class=\"dataframe\">\n",
       "  <thead>\n",
       "    <tr style=\"text-align: right;\">\n",
       "      <th></th>\n",
       "      <th>Sex</th>\n",
       "      <th>Total</th>\n",
       "    </tr>\n",
       "  </thead>\n",
       "  <tbody>\n",
       "    <tr>\n",
       "      <th>0</th>\n",
       "      <td>Female</td>\n",
       "      <td>29669</td>\n",
       "    </tr>\n",
       "    <tr>\n",
       "      <th>1</th>\n",
       "      <td>Male</td>\n",
       "      <td>27239</td>\n",
       "    </tr>\n",
       "  </tbody>\n",
       "</table>\n",
       "</div>"
      ],
      "text/plain": [
       "      Sex   Total\n",
       "0  Female   29669\n",
       "1    Male   27239"
      ]
     },
     "execution_count": 22,
     "metadata": {},
     "output_type": "execute_result"
    }
   ],
   "source": [
    "gender_count_df=  pd.DataFrame ({\"Sex\":[\"Female\",\"Male\"],\n",
    "                               \"Total\":[\" 29669\",\"27239\"] })\n",
    "gender_count_df.head()"
   ]
  },
  {
   "cell_type": "code",
   "execution_count": 23,
   "id": "a8853b58",
   "metadata": {},
   "outputs": [],
   "source": [
    "#BMI section"
   ]
  },
  {
   "cell_type": "code",
   "execution_count": 24,
   "id": "c2c810db",
   "metadata": {},
   "outputs": [
    {
     "data": {
      "text/plain": [
       "State\n",
       "Connecticut             28.219652\n",
       "Delaware                29.212404\n",
       "District of Columbia    27.114139\n",
       "Maine                   28.526088\n",
       "Maryland                28.763478\n",
       "Massachusetts           27.763153\n",
       "New Hampshire           28.033182\n",
       "New Jersey              27.966910\n",
       "New York                28.163643\n",
       "Pennsylvania            28.754287\n",
       "Rhode Island            28.142844\n",
       "Vermont                 27.634991\n",
       "Name: BMI, dtype: float64"
      ]
     },
     "execution_count": 24,
     "metadata": {},
     "output_type": "execute_result"
    }
   ],
   "source": [
    "BMI_Average_States = NEregion.groupby([\"State\"])[\"BMI\"].mean()\n",
    "BMI_Average_States"
   ]
  },
  {
   "cell_type": "code",
   "execution_count": 25,
   "id": "190ce40a",
   "metadata": {},
   "outputs": [
    {
     "data": {
      "image/png": "[encoded data removed]",
      "text/plain": [
       "<Figure size 640x480 with 1 Axes>"
      ]
     },
     "metadata": {},
     "output_type": "display_data"
    }
   ],
   "source": [
    "gender_count = NEregion[\"Sex\"].value_counts()\n",
    "gender_count.plot.pie(autopct = \"%1.1f%%\")\n",
    "plt.show()"
   ]
  },
  {
   "cell_type": "code",
   "execution_count": 26,
   "id": "15b28515",
   "metadata": {},
   "outputs": [],
   "source": [
    "#Ethnnicity section"
   ]
  },
  {
   "cell_type": "code",
   "execution_count": 27,
   "id": "4fcb601d",
   "metadata": {},
   "outputs": [
    {
     "data": {
      "text/plain": [
       "White only, Non-Hispanic         44128\n",
       "Black only, Non-Hispanic          5488\n",
       "Hispanic                          4477\n",
       "Other race only, Non-Hispanic     1949\n",
       "Multiracial, Non-Hispanic          866\n",
       "Name: RaceEthnicityCategory, dtype: int64"
      ]
     },
     "execution_count": 27,
     "metadata": {},
     "output_type": "execute_result"
    }
   ],
   "source": [
    "Ethnicity=  NEregion[\"RaceEthnicityCategory\"].value_counts()\n",
    "Ethnicity"
   ]
  },
  {
   "cell_type": "code",
   "execution_count": 28,
   "id": "e631e755",
   "metadata": {},
   "outputs": [
    {
     "data": {
      "text/html": [
       "<div>\n",
       "<style scoped>\n",
       "    .dataframe tbody tr th:only-of-type {\n",
       "        vertical-align: middle;\n",
       "    }\n",
       "\n",
       "    .dataframe tbody tr th {\n",
       "        vertical-align: top;\n",
       "    }\n",
       "\n",
       "    .dataframe thead th {\n",
       "        text-align: right;\n",
       "    }\n",
       "</style>\n",
       "<table border=\"1\" class=\"dataframe\">\n",
       "  <thead>\n",
       "    <tr style=\"text-align: right;\">\n",
       "      <th></th>\n",
       "      <th>RaceEthnicityCategory</th>\n",
       "      <th>Total</th>\n",
       "    </tr>\n",
       "  </thead>\n",
       "  <tbody>\n",
       "    <tr>\n",
       "      <th>0</th>\n",
       "      <td>White only, Non-Hispanic</td>\n",
       "      <td>44128</td>\n",
       "    </tr>\n",
       "    <tr>\n",
       "      <th>1</th>\n",
       "      <td>Black only, Non-Hispanic</td>\n",
       "      <td>5488</td>\n",
       "    </tr>\n",
       "    <tr>\n",
       "      <th>2</th>\n",
       "      <td>Hispanic</td>\n",
       "      <td>4477</td>\n",
       "    </tr>\n",
       "    <tr>\n",
       "      <th>3</th>\n",
       "      <td>Other race only, Non-Hispanic</td>\n",
       "      <td>1949</td>\n",
       "    </tr>\n",
       "    <tr>\n",
       "      <th>4</th>\n",
       "      <td>Multiracial, Non-Hispanic</td>\n",
       "      <td>866</td>\n",
       "    </tr>\n",
       "  </tbody>\n",
       "</table>\n",
       "</div>"
      ],
      "text/plain": [
       "           RaceEthnicityCategory   Total\n",
       "0       White only, Non-Hispanic   44128\n",
       "1       Black only, Non-Hispanic    5488\n",
       "2                       Hispanic    4477\n",
       "3  Other race only, Non-Hispanic    1949\n",
       "4      Multiracial, Non-Hispanic     866"
      ]
     },
     "execution_count": 28,
     "metadata": {},
     "output_type": "execute_result"
    }
   ],
   "source": [
    "Ethnicity_df=pd.DataFrame ({\"RaceEthnicityCategory\":[\"White only, Non-Hispanic\",\"Black only, Non-Hispanic\",\"Hispanic\",\"Other race only, Non-Hispanic\",\"Multiracial, Non-Hispanic\"],\n",
    "                               \"Total\":[\" 44128\",\"5488\",\"4477\",\"1949\",\"866\"] })\n",
    "Ethnicity_df"
   ]
  },
  {
   "cell_type": "code",
   "execution_count": 29,
   "id": "6e05ddd7",
   "metadata": {},
   "outputs": [
    {
     "data": {
      "image/png": "[encoded data removed]",
      "text/plain": [
       "<Figure size 640x480 with 1 Axes>"
      ]
     },
     "metadata": {},
     "output_type": "display_data"
    }
   ],
   "source": [
    "Ethnicity = NEregion[\"RaceEthnicityCategory\"].value_counts()\n",
    "Ethnicity.plot.pie(autopct = \"%1.1f%%\")\n",
    "plt.show()"
   ]
  },
  {
   "cell_type": "code",
   "execution_count": 30,
   "id": "916f22ce",
   "metadata": {},
   "outputs": [],
   "source": [
    "#General Health section "
   ]
  },
  {
   "cell_type": "code",
   "execution_count": 31,
   "id": "9e40e03f",
   "metadata": {},
   "outputs": [
    {
     "data": {
      "text/plain": [
       "GeneralHealth\n",
       "Excellent    10686\n",
       "Fair          6250\n",
       "Good         16876\n",
       "Poor          1730\n",
       "Very good    21366\n",
       "Name: State, dtype: int64"
      ]
     },
     "execution_count": 31,
     "metadata": {},
     "output_type": "execute_result"
    }
   ],
   "source": [
    "General_Health=NEregion.groupby(['GeneralHealth'])['State'].count()\n",
    "General_Health"
   ]
  },
  {
   "cell_type": "code",
   "execution_count": 32,
   "id": "7628d4cd",
   "metadata": {},
   "outputs": [
    {
     "data": {
      "text/html": [
       "<div>\n",
       "<style scoped>\n",
       "    .dataframe tbody tr th:only-of-type {\n",
       "        vertical-align: middle;\n",
       "    }\n",
       "\n",
       "    .dataframe tbody tr th {\n",
       "        vertical-align: top;\n",
       "    }\n",
       "\n",
       "    .dataframe thead th {\n",
       "        text-align: right;\n",
       "    }\n",
       "</style>\n",
       "<table border=\"1\" class=\"dataframe\">\n",
       "  <thead>\n",
       "    <tr style=\"text-align: right;\">\n",
       "      <th></th>\n",
       "      <th>Region</th>\n",
       "      <th>Sex</th>\n",
       "      <th>GeneralHealth</th>\n",
       "      <th>PhysicalHealthDays</th>\n",
       "      <th>MentalHealthDays</th>\n",
       "      <th>LastCheckupTime</th>\n",
       "      <th>PhysicalActivities</th>\n",
       "      <th>SleepHours</th>\n",
       "      <th>RemovedTeeth</th>\n",
       "      <th>HadHeartAttack</th>\n",
       "      <th>...</th>\n",
       "      <th>HeightInMeters</th>\n",
       "      <th>WeightInKilograms</th>\n",
       "      <th>BMI</th>\n",
       "      <th>AlcoholDrinkers</th>\n",
       "      <th>HIVTesting</th>\n",
       "      <th>FluVaxLast12</th>\n",
       "      <th>PneumoVaxEver</th>\n",
       "      <th>TetanusLast10Tdap</th>\n",
       "      <th>HighRiskLastYear</th>\n",
       "      <th>CovidPos</th>\n",
       "    </tr>\n",
       "    <tr>\n",
       "      <th>State</th>\n",
       "      <th></th>\n",
       "      <th></th>\n",
       "      <th></th>\n",
       "      <th></th>\n",
       "      <th></th>\n",
       "      <th></th>\n",
       "      <th></th>\n",
       "      <th></th>\n",
       "      <th></th>\n",
       "      <th></th>\n",
       "      <th></th>\n",
       "      <th></th>\n",
       "      <th></th>\n",
       "      <th></th>\n",
       "      <th></th>\n",
       "      <th></th>\n",
       "      <th></th>\n",
       "      <th></th>\n",
       "      <th></th>\n",
       "      <th></th>\n",
       "      <th></th>\n",
       "    </tr>\n",
       "  </thead>\n",
       "  <tbody>\n",
       "  </tbody>\n",
       "</table>\n",
       "<p>0 rows × 40 columns</p>\n",
       "</div>"
      ],
      "text/plain": [
       "Empty DataFrame\n",
       "Columns: [Region , Sex, GeneralHealth, PhysicalHealthDays, MentalHealthDays, LastCheckupTime, PhysicalActivities, SleepHours, RemovedTeeth, HadHeartAttack, HadAngina, HadStroke, HadAsthma, HadSkinCancer, HadCOPD, HadDepressiveDisorder, HadKidneyDisease, HadArthritis, HadDiabetes, DeafOrHardOfHearing, BlindOrVisionDifficulty, DifficultyConcentrating, DifficultyWalking, DifficultyDressingBathing, DifficultyErrands, SmokerStatus, ECigaretteUsage, ChestScan, RaceEthnicityCategory, AgeCategory, HeightInMeters, WeightInKilograms, BMI, AlcoholDrinkers, HIVTesting, FluVaxLast12, PneumoVaxEver, TetanusLast10Tdap, HighRiskLastYear, CovidPos]\n",
       "Index: []\n",
       "\n",
       "[0 rows x 40 columns]"
      ]
     },
     "execution_count": 32,
     "metadata": {},
     "output_type": "execute_result"
    }
   ],
   "source": [
    "General_Health=NEregion[NEregion['GeneralHealth']==1].groupby('State').count()\n",
    "General_Health"
   ]
  },
  {
   "cell_type": "code",
   "execution_count": null,
   "id": "1ddbfd0d",
   "metadata": {},
   "outputs": [],
   "source": []
  },
  {
   "cell_type": "code",
   "execution_count": null,
   "id": "aa34dd1b",
   "metadata": {},
   "outputs": [],
   "source": []
  }
 ],
 "metadata": {
  "kernelspec": {
   "display_name": "Python 3 (ipykernel)",
   "language": "python",
   "name": "python3"
  },
  "language_info": {
   "codemirror_mode": {
    "name": "ipython",
    "version": 3
   },
   "file_extension": ".py",
   "mimetype": "text/x-python",
   "name": "python",
   "nbconvert_exporter": "python",
   "pygments_lexer": "ipython3",
   "version": "3.11.4"
  }
 },
 "nbformat": 4,
 "nbformat_minor": 5
}
