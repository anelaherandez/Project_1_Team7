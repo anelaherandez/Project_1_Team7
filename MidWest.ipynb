{
 "cells": [
  {
   "cell_type": "code",
   "execution_count": 42,
   "id": "f3b9bc44",
   "metadata": {},
   "outputs": [],
   "source": [
    "import pandas as pd\n",
    "import plotly as px\n",
    "from pathlib import Path\n",
    "import matplotlib.pyplot as plt\n",
    "import numpy as np\n",
    "from matplotlib import pyplot as plt\n",
    "from scipy.stats import linregress"
   ]
  },
  {
   "cell_type": "code",
   "execution_count": 43,
   "id": "47538559",
   "metadata": {},
   "outputs": [],
   "source": [
    "MidWest_path=\"Midwest_data.csv\"\n"
   ]
  },
  {
   "cell_type": "code",
   "execution_count": 44,
   "id": "ef028a9c",
   "metadata": {},
   "outputs": [
    {
     "data": {
      "text/html": [
       "<div>\n",
       "<style scoped>\n",
       "    .dataframe tbody tr th:only-of-type {\n",
       "        vertical-align: middle;\n",
       "    }\n",
       "\n",
       "    .dataframe tbody tr th {\n",
       "        vertical-align: top;\n",
       "    }\n",
       "\n",
       "    .dataframe thead th {\n",
       "        text-align: right;\n",
       "    }\n",
       "</style>\n",
       "<table border=\"1\" class=\"dataframe\">\n",
       "  <thead>\n",
       "    <tr style=\"text-align: right;\">\n",
       "      <th></th>\n",
       "      <th>State</th>\n",
       "      <th>Region</th>\n",
       "      <th>Sex</th>\n",
       "      <th>GeneralHealth</th>\n",
       "      <th>PhysicalHealthDays</th>\n",
       "      <th>MentalHealthDays</th>\n",
       "      <th>LastCheckupTime</th>\n",
       "      <th>PhysicalActivities</th>\n",
       "      <th>SleepHours</th>\n",
       "      <th>RemovedTeeth</th>\n",
       "      <th>...</th>\n",
       "      <th>HeightInMeters</th>\n",
       "      <th>WeightInKilograms</th>\n",
       "      <th>BMI</th>\n",
       "      <th>AlcoholDrinkers</th>\n",
       "      <th>HIVTesting</th>\n",
       "      <th>FluVaxLast12</th>\n",
       "      <th>PneumoVaxEver</th>\n",
       "      <th>TetanusLast10Tdap</th>\n",
       "      <th>HighRiskLastYear</th>\n",
       "      <th>CovidPos</th>\n",
       "    </tr>\n",
       "  </thead>\n",
       "  <tbody>\n",
       "    <tr>\n",
       "      <th>0</th>\n",
       "      <td>Illinois</td>\n",
       "      <td>Midwest</td>\n",
       "      <td>Male</td>\n",
       "      <td>Very good</td>\n",
       "      <td>2</td>\n",
       "      <td>0</td>\n",
       "      <td>Within past year (anytime less than 12 months ...</td>\n",
       "      <td>Yes</td>\n",
       "      <td>8</td>\n",
       "      <td>All</td>\n",
       "      <td>...</td>\n",
       "      <td>1.80</td>\n",
       "      <td>108.86</td>\n",
       "      <td>33.47</td>\n",
       "      <td>No</td>\n",
       "      <td>No</td>\n",
       "      <td>Yes</td>\n",
       "      <td>No</td>\n",
       "      <td>No, did not receive any tetanus shot in the pa...</td>\n",
       "      <td>Yes</td>\n",
       "      <td>Yes</td>\n",
       "    </tr>\n",
       "    <tr>\n",
       "      <th>1</th>\n",
       "      <td>Illinois</td>\n",
       "      <td>Midwest</td>\n",
       "      <td>Female</td>\n",
       "      <td>Good</td>\n",
       "      <td>0</td>\n",
       "      <td>0</td>\n",
       "      <td>Within past year (anytime less than 12 months ...</td>\n",
       "      <td>Yes</td>\n",
       "      <td>8</td>\n",
       "      <td>None of them</td>\n",
       "      <td>...</td>\n",
       "      <td>1.60</td>\n",
       "      <td>58.97</td>\n",
       "      <td>23.03</td>\n",
       "      <td>No</td>\n",
       "      <td>Yes</td>\n",
       "      <td>Yes</td>\n",
       "      <td>Yes</td>\n",
       "      <td>No, did not receive any tetanus shot in the pa...</td>\n",
       "      <td>No</td>\n",
       "      <td>No</td>\n",
       "    </tr>\n",
       "    <tr>\n",
       "      <th>2</th>\n",
       "      <td>Illinois</td>\n",
       "      <td>Midwest</td>\n",
       "      <td>Male</td>\n",
       "      <td>Good</td>\n",
       "      <td>2</td>\n",
       "      <td>0</td>\n",
       "      <td>Within past year (anytime less than 12 months ...</td>\n",
       "      <td>Yes</td>\n",
       "      <td>7</td>\n",
       "      <td>None of them</td>\n",
       "      <td>...</td>\n",
       "      <td>1.75</td>\n",
       "      <td>99.79</td>\n",
       "      <td>32.49</td>\n",
       "      <td>Yes</td>\n",
       "      <td>No</td>\n",
       "      <td>Yes</td>\n",
       "      <td>No</td>\n",
       "      <td>Yes, received tetanus shot, but not Tdap</td>\n",
       "      <td>Yes</td>\n",
       "      <td>No</td>\n",
       "    </tr>\n",
       "    <tr>\n",
       "      <th>3</th>\n",
       "      <td>Illinois</td>\n",
       "      <td>Midwest</td>\n",
       "      <td>Male</td>\n",
       "      <td>Excellent</td>\n",
       "      <td>0</td>\n",
       "      <td>0</td>\n",
       "      <td>Within past year (anytime less than 12 months ...</td>\n",
       "      <td>Yes</td>\n",
       "      <td>7</td>\n",
       "      <td>1 to 5</td>\n",
       "      <td>...</td>\n",
       "      <td>1.80</td>\n",
       "      <td>74.84</td>\n",
       "      <td>23.01</td>\n",
       "      <td>No</td>\n",
       "      <td>No</td>\n",
       "      <td>No</td>\n",
       "      <td>Yes</td>\n",
       "      <td>No, did not receive any tetanus shot in the pa...</td>\n",
       "      <td>No</td>\n",
       "      <td>No</td>\n",
       "    </tr>\n",
       "    <tr>\n",
       "      <th>4</th>\n",
       "      <td>Illinois</td>\n",
       "      <td>Midwest</td>\n",
       "      <td>Female</td>\n",
       "      <td>Good</td>\n",
       "      <td>30</td>\n",
       "      <td>3</td>\n",
       "      <td>Within past year (anytime less than 12 months ...</td>\n",
       "      <td>No</td>\n",
       "      <td>9</td>\n",
       "      <td>6 or more, but not all</td>\n",
       "      <td>...</td>\n",
       "      <td>1.50</td>\n",
       "      <td>69.40</td>\n",
       "      <td>30.90</td>\n",
       "      <td>No</td>\n",
       "      <td>No</td>\n",
       "      <td>Yes</td>\n",
       "      <td>Yes</td>\n",
       "      <td>Yes, received tetanus shot, but not Tdap</td>\n",
       "      <td>No</td>\n",
       "      <td>No</td>\n",
       "    </tr>\n",
       "    <tr>\n",
       "      <th>...</th>\n",
       "      <td>...</td>\n",
       "      <td>...</td>\n",
       "      <td>...</td>\n",
       "      <td>...</td>\n",
       "      <td>...</td>\n",
       "      <td>...</td>\n",
       "      <td>...</td>\n",
       "      <td>...</td>\n",
       "      <td>...</td>\n",
       "      <td>...</td>\n",
       "      <td>...</td>\n",
       "      <td>...</td>\n",
       "      <td>...</td>\n",
       "      <td>...</td>\n",
       "      <td>...</td>\n",
       "      <td>...</td>\n",
       "      <td>...</td>\n",
       "      <td>...</td>\n",
       "      <td>...</td>\n",
       "      <td>...</td>\n",
       "      <td>...</td>\n",
       "    </tr>\n",
       "    <tr>\n",
       "      <th>65778</th>\n",
       "      <td>Wisconsin</td>\n",
       "      <td>Midwest</td>\n",
       "      <td>Male</td>\n",
       "      <td>Very good</td>\n",
       "      <td>5</td>\n",
       "      <td>0</td>\n",
       "      <td>Within past year (anytime less than 12 months ...</td>\n",
       "      <td>Yes</td>\n",
       "      <td>8</td>\n",
       "      <td>None of them</td>\n",
       "      <td>...</td>\n",
       "      <td>1.80</td>\n",
       "      <td>102.06</td>\n",
       "      <td>31.38</td>\n",
       "      <td>Yes</td>\n",
       "      <td>No</td>\n",
       "      <td>Yes</td>\n",
       "      <td>Yes</td>\n",
       "      <td>Yes, received Tdap</td>\n",
       "      <td>No</td>\n",
       "      <td>Yes</td>\n",
       "    </tr>\n",
       "    <tr>\n",
       "      <th>65779</th>\n",
       "      <td>Wisconsin</td>\n",
       "      <td>Midwest</td>\n",
       "      <td>Female</td>\n",
       "      <td>Good</td>\n",
       "      <td>0</td>\n",
       "      <td>5</td>\n",
       "      <td>Within past 2 years (1 year but less than 2 ye...</td>\n",
       "      <td>Yes</td>\n",
       "      <td>6</td>\n",
       "      <td>None of them</td>\n",
       "      <td>...</td>\n",
       "      <td>1.73</td>\n",
       "      <td>104.33</td>\n",
       "      <td>34.97</td>\n",
       "      <td>Yes</td>\n",
       "      <td>Yes</td>\n",
       "      <td>Yes</td>\n",
       "      <td>No</td>\n",
       "      <td>Yes, received tetanus shot but not sure what type</td>\n",
       "      <td>No</td>\n",
       "      <td>Yes</td>\n",
       "    </tr>\n",
       "    <tr>\n",
       "      <th>65780</th>\n",
       "      <td>Wisconsin</td>\n",
       "      <td>Midwest</td>\n",
       "      <td>Female</td>\n",
       "      <td>Excellent</td>\n",
       "      <td>1</td>\n",
       "      <td>0</td>\n",
       "      <td>Within past year (anytime less than 12 months ...</td>\n",
       "      <td>Yes</td>\n",
       "      <td>6</td>\n",
       "      <td>None of them</td>\n",
       "      <td>...</td>\n",
       "      <td>1.57</td>\n",
       "      <td>58.97</td>\n",
       "      <td>23.78</td>\n",
       "      <td>Yes</td>\n",
       "      <td>Yes</td>\n",
       "      <td>Yes</td>\n",
       "      <td>No</td>\n",
       "      <td>Yes, received Tdap</td>\n",
       "      <td>No</td>\n",
       "      <td>Yes</td>\n",
       "    </tr>\n",
       "    <tr>\n",
       "      <th>65781</th>\n",
       "      <td>Wisconsin</td>\n",
       "      <td>Midwest</td>\n",
       "      <td>Female</td>\n",
       "      <td>Fair</td>\n",
       "      <td>0</td>\n",
       "      <td>14</td>\n",
       "      <td>Within past 5 years (2 years but less than 5 y...</td>\n",
       "      <td>Yes</td>\n",
       "      <td>5</td>\n",
       "      <td>None of them</td>\n",
       "      <td>...</td>\n",
       "      <td>1.68</td>\n",
       "      <td>92.08</td>\n",
       "      <td>32.76</td>\n",
       "      <td>No</td>\n",
       "      <td>No</td>\n",
       "      <td>No</td>\n",
       "      <td>No</td>\n",
       "      <td>Yes, received Tdap</td>\n",
       "      <td>No</td>\n",
       "      <td>No</td>\n",
       "    </tr>\n",
       "    <tr>\n",
       "      <th>65782</th>\n",
       "      <td>Wisconsin</td>\n",
       "      <td>Midwest</td>\n",
       "      <td>Male</td>\n",
       "      <td>Very good</td>\n",
       "      <td>0</td>\n",
       "      <td>0</td>\n",
       "      <td>Within past year (anytime less than 12 months ...</td>\n",
       "      <td>Yes</td>\n",
       "      <td>8</td>\n",
       "      <td>None of them</td>\n",
       "      <td>...</td>\n",
       "      <td>1.73</td>\n",
       "      <td>77.11</td>\n",
       "      <td>25.85</td>\n",
       "      <td>Yes</td>\n",
       "      <td>No</td>\n",
       "      <td>Yes</td>\n",
       "      <td>Yes</td>\n",
       "      <td>Yes, received Tdap</td>\n",
       "      <td>No</td>\n",
       "      <td>Yes</td>\n",
       "    </tr>\n",
       "  </tbody>\n",
       "</table>\n",
       "<p>65783 rows × 41 columns</p>\n",
       "</div>"
      ],
      "text/plain": [
       "           State  Region      Sex GeneralHealth  PhysicalHealthDays  \\\n",
       "0       Illinois  Midwest    Male     Very good                   2   \n",
       "1       Illinois  Midwest  Female          Good                   0   \n",
       "2       Illinois  Midwest    Male          Good                   2   \n",
       "3       Illinois  Midwest    Male     Excellent                   0   \n",
       "4       Illinois  Midwest  Female          Good                  30   \n",
       "...          ...      ...     ...           ...                 ...   \n",
       "65778  Wisconsin  Midwest    Male     Very good                   5   \n",
       "65779  Wisconsin  Midwest  Female          Good                   0   \n",
       "65780  Wisconsin  Midwest  Female     Excellent                   1   \n",
       "65781  Wisconsin  Midwest  Female          Fair                   0   \n",
       "65782  Wisconsin  Midwest    Male     Very good                   0   \n",
       "\n",
       "       MentalHealthDays                                    LastCheckupTime  \\\n",
       "0                     0  Within past year (anytime less than 12 months ...   \n",
       "1                     0  Within past year (anytime less than 12 months ...   \n",
       "2                     0  Within past year (anytime less than 12 months ...   \n",
       "3                     0  Within past year (anytime less than 12 months ...   \n",
       "4                     3  Within past year (anytime less than 12 months ...   \n",
       "...                 ...                                                ...   \n",
       "65778                 0  Within past year (anytime less than 12 months ...   \n",
       "65779                 5  Within past 2 years (1 year but less than 2 ye...   \n",
       "65780                 0  Within past year (anytime less than 12 months ...   \n",
       "65781                14  Within past 5 years (2 years but less than 5 y...   \n",
       "65782                 0  Within past year (anytime less than 12 months ...   \n",
       "\n",
       "      PhysicalActivities  SleepHours            RemovedTeeth  ...  \\\n",
       "0                    Yes           8                     All  ...   \n",
       "1                    Yes           8            None of them  ...   \n",
       "2                    Yes           7            None of them  ...   \n",
       "3                    Yes           7                  1 to 5  ...   \n",
       "4                     No           9  6 or more, but not all  ...   \n",
       "...                  ...         ...                     ...  ...   \n",
       "65778                Yes           8            None of them  ...   \n",
       "65779                Yes           6            None of them  ...   \n",
       "65780                Yes           6            None of them  ...   \n",
       "65781                Yes           5            None of them  ...   \n",
       "65782                Yes           8            None of them  ...   \n",
       "\n",
       "      HeightInMeters WeightInKilograms    BMI AlcoholDrinkers HIVTesting  \\\n",
       "0               1.80            108.86  33.47              No         No   \n",
       "1               1.60             58.97  23.03              No        Yes   \n",
       "2               1.75             99.79  32.49             Yes         No   \n",
       "3               1.80             74.84  23.01              No         No   \n",
       "4               1.50             69.40  30.90              No         No   \n",
       "...              ...               ...    ...             ...        ...   \n",
       "65778           1.80            102.06  31.38             Yes         No   \n",
       "65779           1.73            104.33  34.97             Yes        Yes   \n",
       "65780           1.57             58.97  23.78             Yes        Yes   \n",
       "65781           1.68             92.08  32.76              No         No   \n",
       "65782           1.73             77.11  25.85             Yes         No   \n",
       "\n",
       "      FluVaxLast12 PneumoVaxEver  \\\n",
       "0              Yes            No   \n",
       "1              Yes           Yes   \n",
       "2              Yes            No   \n",
       "3               No           Yes   \n",
       "4              Yes           Yes   \n",
       "...            ...           ...   \n",
       "65778          Yes           Yes   \n",
       "65779          Yes            No   \n",
       "65780          Yes            No   \n",
       "65781           No            No   \n",
       "65782          Yes           Yes   \n",
       "\n",
       "                                       TetanusLast10Tdap HighRiskLastYear  \\\n",
       "0      No, did not receive any tetanus shot in the pa...              Yes   \n",
       "1      No, did not receive any tetanus shot in the pa...               No   \n",
       "2               Yes, received tetanus shot, but not Tdap              Yes   \n",
       "3      No, did not receive any tetanus shot in the pa...               No   \n",
       "4               Yes, received tetanus shot, but not Tdap               No   \n",
       "...                                                  ...              ...   \n",
       "65778                                 Yes, received Tdap               No   \n",
       "65779  Yes, received tetanus shot but not sure what type               No   \n",
       "65780                                 Yes, received Tdap               No   \n",
       "65781                                 Yes, received Tdap               No   \n",
       "65782                                 Yes, received Tdap               No   \n",
       "\n",
       "      CovidPos  \n",
       "0          Yes  \n",
       "1           No  \n",
       "2           No  \n",
       "3           No  \n",
       "4           No  \n",
       "...        ...  \n",
       "65778      Yes  \n",
       "65779      Yes  \n",
       "65780      Yes  \n",
       "65781       No  \n",
       "65782      Yes  \n",
       "\n",
       "[65783 rows x 41 columns]"
      ]
     },
     "execution_count": 44,
     "metadata": {},
     "output_type": "execute_result"
    }
   ],
   "source": [
    "MidWestRegion=pd.read_csv('Midwest_data.csv')\n",
    "MidWestRegion"
   ]
  },
  {
   "cell_type": "code",
   "execution_count": 45,
   "id": "929ab301",
   "metadata": {},
   "outputs": [],
   "source": [
    "#Heart Attack section  "
   ]
  },
  {
   "cell_type": "code",
   "execution_count": 46,
   "id": "6bdd2dd4",
   "metadata": {},
   "outputs": [
    {
     "data": {
      "text/plain": [
       "No     62102\n",
       "Yes     3681\n",
       "Name: HadHeartAttack, dtype: int64"
      ]
     },
     "execution_count": 46,
     "metadata": {},
     "output_type": "execute_result"
    }
   ],
   "source": [
    "Heart_Attack_status = MidWestRegion[\"HadHeartAttack\"].value_counts()\n",
    "Heart_Attack_status"
   ]
  },
  {
   "cell_type": "code",
   "execution_count": 47,
   "id": "3ca9423e",
   "metadata": {},
   "outputs": [
    {
     "data": {
      "text/html": [
       "<div>\n",
       "<style scoped>\n",
       "    .dataframe tbody tr th:only-of-type {\n",
       "        vertical-align: middle;\n",
       "    }\n",
       "\n",
       "    .dataframe tbody tr th {\n",
       "        vertical-align: top;\n",
       "    }\n",
       "\n",
       "    .dataframe thead th {\n",
       "        text-align: right;\n",
       "    }\n",
       "</style>\n",
       "<table border=\"1\" class=\"dataframe\">\n",
       "  <thead>\n",
       "    <tr style=\"text-align: right;\">\n",
       "      <th></th>\n",
       "      <th>HadHeartAttack</th>\n",
       "      <th>Total</th>\n",
       "    </tr>\n",
       "  </thead>\n",
       "  <tbody>\n",
       "    <tr>\n",
       "      <th>0</th>\n",
       "      <td>Yes</td>\n",
       "      <td>62102</td>\n",
       "    </tr>\n",
       "    <tr>\n",
       "      <th>1</th>\n",
       "      <td>No</td>\n",
       "      <td>3681</td>\n",
       "    </tr>\n",
       "  </tbody>\n",
       "</table>\n",
       "</div>"
      ],
      "text/plain": [
       "  HadHeartAttack  Total\n",
       "0            Yes  62102\n",
       "1             No   3681"
      ]
     },
     "execution_count": 47,
     "metadata": {},
     "output_type": "execute_result"
    }
   ],
   "source": [
    "Heart_Attack_status_df= pd.DataFrame({\"HadHeartAttack\":[\"Yes\",\"No\"],\n",
    "                               \"Total\":[\"62102\",\"3681\"] })\n",
    "Heart_Attack_status_df.head()"
   ]
  },
  {
   "cell_type": "code",
   "execution_count": 56,
   "id": "2e424f50",
   "metadata": {},
   "outputs": [
    {
     "data": {
      "image/png": "[encoded data removed]",
      "text/plain": [
       "<Figure size 640x480 with 1 Axes>"
      ]
     },
     "metadata": {},
     "output_type": "display_data"
    }
   ],
   "source": [
    "Heart_Attack_status = MidWestRegion[\"HadHeartAttack\"].value_counts()\n",
    "Heart_Attack_status.plot.pie(autopct = \"%1.1f%%\", colors=colors, shadow=True )\n",
    "colors=['red', 'purple']\n",
    "\n",
    "plt.show()"
   ]
  },
  {
   "cell_type": "code",
   "execution_count": 57,
   "id": "dfdabf8c",
   "metadata": {},
   "outputs": [
    {
     "data": {
      "text/plain": [
       "State\n",
       "Illinois        2607\n",
       "Indiana         5502\n",
       "Iowa            5672\n",
       "Kansas          6145\n",
       "Michigan        5370\n",
       "Minnesota       9161\n",
       "Missouri        4195\n",
       "Nebraska        5107\n",
       "North Dakota    2498\n",
       "Ohio            8995\n",
       "South Dakota    4405\n",
       "Wisconsin       6126\n",
       "Name: HadHeartAttack, dtype: int64"
      ]
     },
     "execution_count": 57,
     "metadata": {},
     "output_type": "execute_result"
    }
   ],
   "source": [
    "states_MidWest= MidWestRegion.groupby([\"State\"])[\"HadHeartAttack\"].count()\n",
    "states_MidWest"
   ]
  },
  {
   "cell_type": "code",
   "execution_count": 75,
   "id": "0a74b8e4",
   "metadata": {},
   "outputs": [
    {
     "data": {
      "text/plain": [
       "Sex\n",
       "Female    33622\n",
       "Male      32161\n",
       "Name: Sex, dtype: int64"
      ]
     },
     "execution_count": 75,
     "metadata": {},
     "output_type": "execute_result"
    }
   ],
   "source": [
    "No_Heart_attack_gender=MidWestRegion.groupby('Sex')['Sex'].count()\n",
    "No_Heart_attack_gender"
   ]
  },
  {
   "cell_type": "code",
   "execution_count": 76,
   "id": "1afe6fa6",
   "metadata": {},
   "outputs": [
    {
     "data": {
      "text/plain": [
       "Index([], dtype='object', name='Sex')"
      ]
     },
     "execution_count": 76,
     "metadata": {},
     "output_type": "execute_result"
    }
   ],
   "source": [
    "No_Heart_attack_gender_MidWest= MidWestRegion[MidWestRegion[\"HadHeartAttack\"]==0].groupby(\"Sex\").size()\n",
    "No_Heart_attack_gender_MidWest.index"
   ]
  },
  {
   "cell_type": "code",
   "execution_count": 77,
   "id": "cd07d029",
   "metadata": {},
   "outputs": [
    {
     "data": {
      "image/png": "[encoded data removed]",
      "text/plain": [
       "<Figure size 640x480 with 1 Axes>"
      ]
     },
     "metadata": {},
     "output_type": "display_data"
    }
   ],
   "source": [
    "colors=['hotpink','lightskyblue']\n",
    "labels=No_Heart_attack_gender\n",
    "explode=(0, 0.1)\n",
    "plt.pie(Sex_id,  explode=explode, labels=labels, colors=colors, autopct=\"%1.1f%%\", shadow=True)\n",
    "plt.title(\"No History of Heart Attacks in Male vs Female \", fontweight='bold')\n",
    "plt.show()"
   ]
  },
  {
   "cell_type": "code",
   "execution_count": 78,
   "id": "28c94dc6",
   "metadata": {},
   "outputs": [
    {
     "data": {
      "text/plain": [
       "Series([], dtype: int64)"
      ]
     },
     "execution_count": 78,
     "metadata": {},
     "output_type": "execute_result"
    }
   ],
   "source": [
    "Heart_attack_gender=MidWestRegion[MidWestRegion[\"HadHeartAttack\"]==1].groupby(\"Sex\").size()\n",
    "Heart_attack_gender"
   ]
  },
  {
   "cell_type": "code",
   "execution_count": 79,
   "id": "c5ec8354",
   "metadata": {},
   "outputs": [
    {
     "data": {
      "text/plain": [
       "Series([], dtype: int64)"
      ]
     },
     "execution_count": 79,
     "metadata": {},
     "output_type": "execute_result"
    }
   ],
   "source": [
    "Heart_attack_gender"
   ]
  },
  {
   "cell_type": "code",
   "execution_count": 73,
   "id": "2251663b",
   "metadata": {},
   "outputs": [],
   "source": [
    "#Stroke Information section"
   ]
  },
  {
   "cell_type": "code",
   "execution_count": 11,
   "id": "d058ae42",
   "metadata": {},
   "outputs": [
    {
     "data": {
      "text/plain": [
       "No     63146\n",
       "Yes     2637\n",
       "Name: HadStroke, dtype: int64"
      ]
     },
     "execution_count": 11,
     "metadata": {},
     "output_type": "execute_result"
    }
   ],
   "source": [
    "\n",
    "Stroke_Status=MidWestRegion[\"HadStroke\"].value_counts()\n",
    "Stroke_Status"
   ]
  },
  {
   "cell_type": "code",
   "execution_count": 12,
   "id": "7c9ccc59",
   "metadata": {},
   "outputs": [
    {
     "data": {
      "text/html": [
       "<div>\n",
       "<style scoped>\n",
       "    .dataframe tbody tr th:only-of-type {\n",
       "        vertical-align: middle;\n",
       "    }\n",
       "\n",
       "    .dataframe tbody tr th {\n",
       "        vertical-align: top;\n",
       "    }\n",
       "\n",
       "    .dataframe thead th {\n",
       "        text-align: right;\n",
       "    }\n",
       "</style>\n",
       "<table border=\"1\" class=\"dataframe\">\n",
       "  <thead>\n",
       "    <tr style=\"text-align: right;\">\n",
       "      <th></th>\n",
       "      <th>HadStroke</th>\n",
       "      <th>Total</th>\n",
       "    </tr>\n",
       "  </thead>\n",
       "  <tbody>\n",
       "    <tr>\n",
       "      <th>0</th>\n",
       "      <td>Yes</td>\n",
       "      <td>63146</td>\n",
       "    </tr>\n",
       "    <tr>\n",
       "      <th>1</th>\n",
       "      <td>No</td>\n",
       "      <td>2637</td>\n",
       "    </tr>\n",
       "  </tbody>\n",
       "</table>\n",
       "</div>"
      ],
      "text/plain": [
       "  HadStroke  Total\n",
       "0       Yes  63146\n",
       "1        No   2637"
      ]
     },
     "execution_count": 12,
     "metadata": {},
     "output_type": "execute_result"
    }
   ],
   "source": [
    "Stroke_Status_df=pd.DataFrame({\"HadStroke\":[\"Yes\",\"No\"],\n",
    "                               \"Total\":[\"63146\",\"2637\"] })\n",
    "Stroke_Status_df"
   ]
  },
  {
   "cell_type": "code",
   "execution_count": 30,
   "id": "70065f40",
   "metadata": {},
   "outputs": [
    {
     "data": {
      "image/png": "[encoded data removed]",
      "text/plain": [
       "<Figure size 640x480 with 1 Axes>"
      ]
     },
     "metadata": {},
     "output_type": "display_data"
    }
   ],
   "source": [
    "Stroke_Status = MidWestRegion[\"HadStroke\"].value_counts()\n",
    "Stroke_Status.plot.pie(autopct = \"%1.1f%%\", colors=colors)\n",
    "colors=['purple', 'yellow']\n",
    "plt.show()"
   ]
  },
  {
   "cell_type": "code",
   "execution_count": 19,
   "id": "e398330f",
   "metadata": {},
   "outputs": [],
   "source": [
    "#Smoker section"
   ]
  },
  {
   "cell_type": "code",
   "execution_count": 13,
   "id": "89320c61",
   "metadata": {},
   "outputs": [
    {
     "data": {
      "text/plain": [
       "Never smoked                             38554\n",
       "Former smoker                            18212\n",
       "Current smoker - now smokes every day     6742\n",
       "Current smoker - now smokes some days     2275\n",
       "Name: SmokerStatus, dtype: int64"
      ]
     },
     "execution_count": 13,
     "metadata": {},
     "output_type": "execute_result"
    }
   ],
   "source": [
    "\n",
    "smoker_status = MidWestRegion[\"SmokerStatus\"].value_counts()\n",
    "smoker_status"
   ]
  },
  {
   "cell_type": "code",
   "execution_count": 14,
   "id": "90a760b0",
   "metadata": {},
   "outputs": [
    {
     "data": {
      "text/html": [
       "<div>\n",
       "<style scoped>\n",
       "    .dataframe tbody tr th:only-of-type {\n",
       "        vertical-align: middle;\n",
       "    }\n",
       "\n",
       "    .dataframe tbody tr th {\n",
       "        vertical-align: top;\n",
       "    }\n",
       "\n",
       "    .dataframe thead th {\n",
       "        text-align: right;\n",
       "    }\n",
       "</style>\n",
       "<table border=\"1\" class=\"dataframe\">\n",
       "  <thead>\n",
       "    <tr style=\"text-align: right;\">\n",
       "      <th></th>\n",
       "      <th>Smoker Status</th>\n",
       "      <th>Total</th>\n",
       "    </tr>\n",
       "  </thead>\n",
       "  <tbody>\n",
       "    <tr>\n",
       "      <th>0</th>\n",
       "      <td>Never smoked</td>\n",
       "      <td>38554</td>\n",
       "    </tr>\n",
       "    <tr>\n",
       "      <th>1</th>\n",
       "      <td>Former smoker</td>\n",
       "      <td>18212</td>\n",
       "    </tr>\n",
       "    <tr>\n",
       "      <th>2</th>\n",
       "      <td>Current smoker-now smokes every day</td>\n",
       "      <td>6342</td>\n",
       "    </tr>\n",
       "    <tr>\n",
       "      <th>3</th>\n",
       "      <td>Current smoker-now smokes some days</td>\n",
       "      <td>2275</td>\n",
       "    </tr>\n",
       "  </tbody>\n",
       "</table>\n",
       "</div>"
      ],
      "text/plain": [
       "                         Smoker Status  Total\n",
       "0                         Never smoked  38554\n",
       "1                        Former smoker  18212\n",
       "2  Current smoker-now smokes every day   6342\n",
       "3  Current smoker-now smokes some days   2275"
      ]
     },
     "execution_count": 14,
     "metadata": {},
     "output_type": "execute_result"
    }
   ],
   "source": [
    "smoker_status_df= pd.DataFrame({\"Smoker Status\": [\"Never smoked\", \"Former smoker\", \"Current smoker-now smokes every day\",\"Current smoker-now smokes some days\"],\n",
    "                               \"Total\": [\"38554\",\"18212\",\"6342\",\"2275\"]})\n",
    "smoker_status_df.head()"
   ]
  },
  {
   "cell_type": "code",
   "execution_count": 15,
   "id": "87d1dd83",
   "metadata": {},
   "outputs": [
    {
     "data": {
      "image/png": "[encoded data removed]",
      "text/plain": [
       "<Figure size 640x480 with 1 Axes>"
      ]
     },
     "metadata": {},
     "output_type": "display_data"
    }
   ],
   "source": [
    "smoker_status = MidWestRegion[\"SmokerStatus\"].value_counts()\n",
    "smoker_status.plot.pie(autopct = \"%1.1f%%\")\n",
    "plt.show()"
   ]
  },
  {
   "cell_type": "code",
   "execution_count": null,
   "id": "74ff729a",
   "metadata": {},
   "outputs": [],
   "source": [
    "#E cigarette Section"
   ]
  },
  {
   "cell_type": "code",
   "execution_count": 16,
   "id": "2786a367",
   "metadata": {},
   "outputs": [
    {
     "data": {
      "text/plain": [
       "Never used e-cigarettes in my entire life    51382\n",
       "Not at all (right now)                       11164\n",
       "Use them some days                            1686\n",
       "Use them every day                            1551\n",
       "Name: ECigaretteUsage, dtype: int64"
      ]
     },
     "execution_count": 16,
     "metadata": {},
     "output_type": "execute_result"
    }
   ],
   "source": [
    "Ecigarette_Status= MidWestRegion[\"ECigaretteUsage\"].value_counts()\n",
    "Ecigarette_Status"
   ]
  },
  {
   "cell_type": "code",
   "execution_count": 17,
   "id": "d5900df2",
   "metadata": {},
   "outputs": [
    {
     "data": {
      "text/html": [
       "<div>\n",
       "<style scoped>\n",
       "    .dataframe tbody tr th:only-of-type {\n",
       "        vertical-align: middle;\n",
       "    }\n",
       "\n",
       "    .dataframe tbody tr th {\n",
       "        vertical-align: top;\n",
       "    }\n",
       "\n",
       "    .dataframe thead th {\n",
       "        text-align: right;\n",
       "    }\n",
       "</style>\n",
       "<table border=\"1\" class=\"dataframe\">\n",
       "  <thead>\n",
       "    <tr style=\"text-align: right;\">\n",
       "      <th></th>\n",
       "      <th>ECigaretteUsage</th>\n",
       "      <th>Total</th>\n",
       "    </tr>\n",
       "  </thead>\n",
       "  <tbody>\n",
       "    <tr>\n",
       "      <th>0</th>\n",
       "      <td>Never used e-cigarettes in my entire life</td>\n",
       "      <td>51382</td>\n",
       "    </tr>\n",
       "    <tr>\n",
       "      <th>1</th>\n",
       "      <td>Not at all (right now)</td>\n",
       "      <td>11164</td>\n",
       "    </tr>\n",
       "    <tr>\n",
       "      <th>2</th>\n",
       "      <td>Use them every day</td>\n",
       "      <td>1686</td>\n",
       "    </tr>\n",
       "    <tr>\n",
       "      <th>3</th>\n",
       "      <td>Use them some days</td>\n",
       "      <td>1551</td>\n",
       "    </tr>\n",
       "  </tbody>\n",
       "</table>\n",
       "</div>"
      ],
      "text/plain": [
       "                             ECigaretteUsage  Total\n",
       "0  Never used e-cigarettes in my entire life  51382\n",
       "1                     Not at all (right now)  11164\n",
       "2                         Use them every day   1686\n",
       "3                         Use them some days   1551"
      ]
     },
     "execution_count": 17,
     "metadata": {},
     "output_type": "execute_result"
    }
   ],
   "source": [
    "Ecigarette_Status_df= pd.DataFrame ({\"ECigaretteUsage\": [\"Never used e-cigarettes in my entire life\", \"Not at all (right now)\", \"Use them every day\", \"Use them some days\"],\n",
    "                                     \"Total\":[\"51382\",\"11164\",\"1686\",\"1551\"]})\n",
    "Ecigarette_Status_df\n",
    "                                "
   ]
  },
  {
   "cell_type": "code",
   "execution_count": 18,
   "id": "c275f2e3",
   "metadata": {},
   "outputs": [
    {
     "data": {
      "image/png": "[encoded data removed]",
      "text/plain": [
       "<Figure size 640x480 with 1 Axes>"
      ]
     },
     "metadata": {},
     "output_type": "display_data"
    }
   ],
   "source": [
    "Ecigarette_Status = MidWestRegion[\"ECigaretteUsage\"].value_counts()\n",
    "Ecigarette_Status.plot.pie(autopct = \"%1.1f%%\")\n",
    "plt.show()"
   ]
  },
  {
   "cell_type": "code",
   "execution_count": null,
   "id": "1e05b8da",
   "metadata": {},
   "outputs": [],
   "source": [
    "#Gender section"
   ]
  },
  {
   "cell_type": "code",
   "execution_count": 19,
   "id": "df0505ff",
   "metadata": {},
   "outputs": [
    {
     "data": {
      "text/plain": [
       "Female    33622\n",
       "Male      32161\n",
       "Name: Sex, dtype: int64"
      ]
     },
     "execution_count": 19,
     "metadata": {},
     "output_type": "execute_result"
    }
   ],
   "source": [
    "gender_count = MidWestRegion[\"Sex\"].value_counts()\n",
    "gender_count"
   ]
  },
  {
   "cell_type": "code",
   "execution_count": 20,
   "id": "03eada8b",
   "metadata": {},
   "outputs": [
    {
     "data": {
      "text/html": [
       "<div>\n",
       "<style scoped>\n",
       "    .dataframe tbody tr th:only-of-type {\n",
       "        vertical-align: middle;\n",
       "    }\n",
       "\n",
       "    .dataframe tbody tr th {\n",
       "        vertical-align: top;\n",
       "    }\n",
       "\n",
       "    .dataframe thead th {\n",
       "        text-align: right;\n",
       "    }\n",
       "</style>\n",
       "<table border=\"1\" class=\"dataframe\">\n",
       "  <thead>\n",
       "    <tr style=\"text-align: right;\">\n",
       "      <th></th>\n",
       "      <th>Sex</th>\n",
       "      <th>Total</th>\n",
       "    </tr>\n",
       "  </thead>\n",
       "  <tbody>\n",
       "    <tr>\n",
       "      <th>0</th>\n",
       "      <td>Female</td>\n",
       "      <td>33622</td>\n",
       "    </tr>\n",
       "    <tr>\n",
       "      <th>1</th>\n",
       "      <td>Male</td>\n",
       "      <td>32161</td>\n",
       "    </tr>\n",
       "  </tbody>\n",
       "</table>\n",
       "</div>"
      ],
      "text/plain": [
       "      Sex   Total\n",
       "0  Female   33622\n",
       "1    Male   32161"
      ]
     },
     "execution_count": 20,
     "metadata": {},
     "output_type": "execute_result"
    }
   ],
   "source": [
    "gender_count_df=  pd.DataFrame ({\"Sex\":[\"Female\",\"Male\"],\n",
    "                               \"Total\":[\" 33622\",\"32161\"] })\n",
    "gender_count_df.head()"
   ]
  },
  {
   "cell_type": "code",
   "execution_count": null,
   "id": "fac17a4f",
   "metadata": {},
   "outputs": [],
   "source": [
    "#BMI section"
   ]
  },
  {
   "cell_type": "code",
   "execution_count": 21,
   "id": "bddf557f",
   "metadata": {},
   "outputs": [
    {
     "data": {
      "text/plain": [
       "State\n",
       "Illinois        28.759720\n",
       "Indiana         29.493295\n",
       "Iowa            29.416075\n",
       "Kansas          29.109403\n",
       "Michigan        28.658443\n",
       "Minnesota       28.687714\n",
       "Missouri        29.237654\n",
       "Nebraska        29.283527\n",
       "North Dakota    29.089143\n",
       "Ohio            29.704753\n",
       "South Dakota    29.131339\n",
       "Wisconsin       29.290663\n",
       "Name: BMI, dtype: float64"
      ]
     },
     "execution_count": 21,
     "metadata": {},
     "output_type": "execute_result"
    }
   ],
   "source": [
    "BMI_Average_States = MidWestRegion.groupby([\"State\"])[\"BMI\"].mean()\n",
    "BMI_Average_States"
   ]
  },
  {
   "cell_type": "code",
   "execution_count": 22,
   "id": "360e1184",
   "metadata": {},
   "outputs": [
    {
     "data": {
      "image/png": "[encoded data removed]",
      "text/plain": [
       "<Figure size 640x480 with 1 Axes>"
      ]
     },
     "metadata": {},
     "output_type": "display_data"
    }
   ],
   "source": [
    "gender_count = MidWestRegion[\"Sex\"].value_counts()\n",
    "gender_count.plot.pie(autopct = \"%1.1f%%\")\n",
    "plt.show()"
   ]
  },
  {
   "cell_type": "code",
   "execution_count": null,
   "id": "1e5b7150",
   "metadata": {},
   "outputs": [],
   "source": [
    "#Ethnnicity section"
   ]
  },
  {
   "cell_type": "code",
   "execution_count": 23,
   "id": "b5e39f37",
   "metadata": {},
   "outputs": [
    {
     "data": {
      "text/plain": [
       "White only, Non-Hispanic         55712\n",
       "Black only, Non-Hispanic          3863\n",
       "Hispanic                          3021\n",
       "Other race only, Non-Hispanic     2176\n",
       "Multiracial, Non-Hispanic         1011\n",
       "Name: RaceEthnicityCategory, dtype: int64"
      ]
     },
     "execution_count": 23,
     "metadata": {},
     "output_type": "execute_result"
    }
   ],
   "source": [
    "Ethnicity=  MidWestRegion[\"RaceEthnicityCategory\"].value_counts()\n",
    "Ethnicity"
   ]
  },
  {
   "cell_type": "code",
   "execution_count": 24,
   "id": "87f2be22",
   "metadata": {},
   "outputs": [
    {
     "data": {
      "image/png": "[encoded data removed]",
      "text/plain": [
       "<Figure size 640x480 with 1 Axes>"
      ]
     },
     "metadata": {},
     "output_type": "display_data"
    }
   ],
   "source": [
    "Ethnicity = MidWestRegion[\"RaceEthnicityCategory\"].value_counts()\n",
    "Ethnicity.plot.pie(autopct = \"%1.1f%%\")\n",
    "plt.show()"
   ]
  },
  {
   "cell_type": "code",
   "execution_count": null,
   "id": "6f9102dd",
   "metadata": {},
   "outputs": [],
   "source": [
    "#General Health section "
   ]
  },
  {
   "cell_type": "code",
   "execution_count": 25,
   "id": "f844bee2",
   "metadata": {},
   "outputs": [
    {
     "data": {
      "text/plain": [
       "GeneralHealth\n",
       "Excellent    10126\n",
       "Fair          8026\n",
       "Good         21253\n",
       "Poor          2401\n",
       "Very good    23977\n",
       "Name: State, dtype: int64"
      ]
     },
     "execution_count": 25,
     "metadata": {},
     "output_type": "execute_result"
    }
   ],
   "source": [
    "General_Health=MidWestRegion.groupby(['GeneralHealth'])['State'].count()\n",
    "General_Health"
   ]
  },
  {
   "cell_type": "code",
   "execution_count": 27,
   "id": "129d3634",
   "metadata": {},
   "outputs": [
    {
     "data": {
      "text/html": [
       "<div>\n",
       "<style scoped>\n",
       "    .dataframe tbody tr th:only-of-type {\n",
       "        vertical-align: middle;\n",
       "    }\n",
       "\n",
       "    .dataframe tbody tr th {\n",
       "        vertical-align: top;\n",
       "    }\n",
       "\n",
       "    .dataframe thead th {\n",
       "        text-align: right;\n",
       "    }\n",
       "</style>\n",
       "<table border=\"1\" class=\"dataframe\">\n",
       "  <thead>\n",
       "    <tr style=\"text-align: right;\">\n",
       "      <th></th>\n",
       "      <th>Region</th>\n",
       "      <th>Sex</th>\n",
       "      <th>GeneralHealth</th>\n",
       "      <th>PhysicalHealthDays</th>\n",
       "      <th>MentalHealthDays</th>\n",
       "      <th>LastCheckupTime</th>\n",
       "      <th>PhysicalActivities</th>\n",
       "      <th>SleepHours</th>\n",
       "      <th>RemovedTeeth</th>\n",
       "      <th>HadHeartAttack</th>\n",
       "      <th>...</th>\n",
       "      <th>HeightInMeters</th>\n",
       "      <th>WeightInKilograms</th>\n",
       "      <th>BMI</th>\n",
       "      <th>AlcoholDrinkers</th>\n",
       "      <th>HIVTesting</th>\n",
       "      <th>FluVaxLast12</th>\n",
       "      <th>PneumoVaxEver</th>\n",
       "      <th>TetanusLast10Tdap</th>\n",
       "      <th>HighRiskLastYear</th>\n",
       "      <th>CovidPos</th>\n",
       "    </tr>\n",
       "    <tr>\n",
       "      <th>State</th>\n",
       "      <th></th>\n",
       "      <th></th>\n",
       "      <th></th>\n",
       "      <th></th>\n",
       "      <th></th>\n",
       "      <th></th>\n",
       "      <th></th>\n",
       "      <th></th>\n",
       "      <th></th>\n",
       "      <th></th>\n",
       "      <th></th>\n",
       "      <th></th>\n",
       "      <th></th>\n",
       "      <th></th>\n",
       "      <th></th>\n",
       "      <th></th>\n",
       "      <th></th>\n",
       "      <th></th>\n",
       "      <th></th>\n",
       "      <th></th>\n",
       "      <th></th>\n",
       "    </tr>\n",
       "  </thead>\n",
       "  <tbody>\n",
       "  </tbody>\n",
       "</table>\n",
       "<p>0 rows × 40 columns</p>\n",
       "</div>"
      ],
      "text/plain": [
       "Empty DataFrame\n",
       "Columns: [Region , Sex, GeneralHealth, PhysicalHealthDays, MentalHealthDays, LastCheckupTime, PhysicalActivities, SleepHours, RemovedTeeth, HadHeartAttack, HadAngina, HadStroke, HadAsthma, HadSkinCancer, HadCOPD, HadDepressiveDisorder, HadKidneyDisease, HadArthritis, HadDiabetes, DeafOrHardOfHearing, BlindOrVisionDifficulty, DifficultyConcentrating, DifficultyWalking, DifficultyDressingBathing, DifficultyErrands, SmokerStatus, ECigaretteUsage, ChestScan, RaceEthnicityCategory, AgeCategory, HeightInMeters, WeightInKilograms, BMI, AlcoholDrinkers, HIVTesting, FluVaxLast12, PneumoVaxEver, TetanusLast10Tdap, HighRiskLastYear, CovidPos]\n",
       "Index: []\n",
       "\n",
       "[0 rows x 40 columns]"
      ]
     },
     "execution_count": 27,
     "metadata": {},
     "output_type": "execute_result"
    }
   ],
   "source": [
    "General_Health=MidWestRegion[MidWestRegion['GeneralHealth']==1].groupby('State').count()\n",
    "General_Health"
   ]
  },
  {
   "cell_type": "code",
   "execution_count": null,
   "id": "cc91bb69",
   "metadata": {},
   "outputs": [],
   "source": []
  },
  {
   "cell_type": "code",
   "execution_count": null,
   "id": "f6d43bd0",
   "metadata": {},
   "outputs": [],
   "source": []
  },
  {
   "cell_type": "code",
   "execution_count": null,
   "id": "72eb2987",
   "metadata": {},
   "outputs": [],
   "source": []
  }
 ],
 "metadata": {
  "kernelspec": {
   "display_name": "Python 3 (ipykernel)",
   "language": "python",
   "name": "python3"
  },
  "language_info": {
   "codemirror_mode": {
    "name": "ipython",
    "version": 3
   },
   "file_extension": ".py",
   "mimetype": "text/x-python",
   "name": "python",
   "nbconvert_exporter": "python",
   "pygments_lexer": "ipython3",
   "version": "3.11.4"
  }
 },
 "nbformat": 4,
 "nbformat_minor": 5
}
