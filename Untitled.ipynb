{
 "cells": [
  {
   "cell_type": "code",
   "execution_count": null,
   "id": "351bac8d",
   "metadata": {},
   "outputs": [],
   "source": [
    "# Dependencies and set up\n",
    "import pandas as pd\n",
    "from pathlib import Path\n",
    "import matplotlib.pyplot as plt\n",
    "import scipy.stats as st\n",
    "import numpy as np\n",
    "from scipy.stats import linregress\n",
    "\n",
    "# data file \n",
    "southregion_path=\n",
    "\n",
    "# read data file\n"
   ]
  },
  {
   "cell_type": "code",
   "execution_count": null,
   "id": "9cd9681b",
   "metadata": {},
   "outputs": [],
   "source": []
  }
 ],
 "metadata": {
  "kernelspec": {
   "display_name": "Python 3 (ipykernel)",
   "language": "python",
   "name": "python3"
  },
  "language_info": {
   "codemirror_mode": {
    "name": "ipython",
    "version": 3
   },
   "file_extension": ".py",
   "mimetype": "text/x-python",
   "name": "python",
   "nbconvert_exporter": "python",
   "pygments_lexer": "ipython3",
   "version": "3.11.5"
  }
 },
 "nbformat": 4,
 "nbformat_minor": 5
}
